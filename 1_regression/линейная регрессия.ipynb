{
 "cells": [
  {
   "cell_type": "markdown",
   "id": "f98bbd7c",
   "metadata": {},
   "source": [
    "# Прогнозирование цен на жилье с использованием многомерной линейной регрессии\n",
    "Используются только библиотеки Pandas и NumPy.\n",
    "## 1. Введение\n",
    "\n",
    "Это классический пример для начинающих в машинном обучении. Набор данных содержит данные о продажах домов в округе Кинг, США, за период с мая 2014 по май 2015 года. Вы можете найти полный набор данных на [Kaggle](https://www.kaggle.com/datasets/harlfoxem/housesalesprediction). Прежде чем продолжить, настоятельно рекомендуется перейти по вышеупомянутой ссылке и ознакомиться с исходным набором данных.\n",
    "\n",
    "Наша цель - применить многомерную линейную регрессию, чтобы спрогнозировать цену любого данного дома в этом районе, учитывая ряд его характеристик (например, количество ванных комнат, год постройки дома и т.д.). Для этой цели используются библиотеки NumPy и Pandas (а также Matplotlib и Seaborn для визуализации). Хотя некоторые могут счесть код излишне длинным и подробным, я считаю, что он может дать читателю хорошее представление о том, что на самом деле происходит в таких моделях, и, таким образом, может иметь большую образовательную ценность (особенно для начинающих). Код в значительной степени основан на стэнфордском курсе машинного обучения на [Coursera](https://www.coursera.org/learn/machine-learning) Эндрю Нга и может быть очень полезен тем, кто прошел его и хочет увидеть реализацию на Python.\n",
    "## 2. Первоначальное изучение набора данных\n",
    "\n",
    "В этом разделе мы собираемся настроить среду, импортировав необходимые библиотеки, а также загрузив наши данные в фрейм данных Pandas.\n"
   ]
  },
  {
   "cell_type": "code",
   "execution_count": 1,
   "id": "f031e6ce",
   "metadata": {},
   "outputs": [],
   "source": [
    "# импортируем библиотеки\n",
    "import numpy as np\n",
    "import pandas as pd\n",
    "import matplotlib.pyplot as plt\n",
    "import seaborn as sns\n",
    "%matplotlib inline\n",
    "\n",
    "# считывание данных о доме во фрейм данных\n",
    "df = pd.read_csv('kc_house_data.csv')"
   ]
  },
  {
   "cell_type": "markdown",
   "id": "77b331f6",
   "metadata": {},
   "source": [
    "Теперь мы можем продолжить и посмотреть, как выглядит наш набор данных, а также получить представление о его статистических свойствах."
   ]
  },
  {
   "cell_type": "code",
   "execution_count": 2,
   "id": "8d3c8f39",
   "metadata": {},
   "outputs": [
    {
     "data": {
      "text/html": [
       "<div>\n",
       "<style scoped>\n",
       "    .dataframe tbody tr th:only-of-type {\n",
       "        vertical-align: middle;\n",
       "    }\n",
       "\n",
       "    .dataframe tbody tr th {\n",
       "        vertical-align: top;\n",
       "    }\n",
       "\n",
       "    .dataframe thead th {\n",
       "        text-align: right;\n",
       "    }\n",
       "</style>\n",
       "<table border=\"1\" class=\"dataframe\">\n",
       "  <thead>\n",
       "    <tr style=\"text-align: right;\">\n",
       "      <th></th>\n",
       "      <th>id</th>\n",
       "      <th>date</th>\n",
       "      <th>price</th>\n",
       "      <th>bedrooms</th>\n",
       "      <th>bathrooms</th>\n",
       "      <th>sqft_living</th>\n",
       "      <th>sqft_lot</th>\n",
       "      <th>floors</th>\n",
       "      <th>waterfront</th>\n",
       "      <th>view</th>\n",
       "      <th>...</th>\n",
       "      <th>grade</th>\n",
       "      <th>sqft_above</th>\n",
       "      <th>sqft_basement</th>\n",
       "      <th>yr_built</th>\n",
       "      <th>yr_renovated</th>\n",
       "      <th>zipcode</th>\n",
       "      <th>lat</th>\n",
       "      <th>long</th>\n",
       "      <th>sqft_living15</th>\n",
       "      <th>sqft_lot15</th>\n",
       "    </tr>\n",
       "  </thead>\n",
       "  <tbody>\n",
       "    <tr>\n",
       "      <th>0</th>\n",
       "      <td>7129300520</td>\n",
       "      <td>20141013T000000</td>\n",
       "      <td>221900.0</td>\n",
       "      <td>3</td>\n",
       "      <td>1.00</td>\n",
       "      <td>1180</td>\n",
       "      <td>5650</td>\n",
       "      <td>1.0</td>\n",
       "      <td>0</td>\n",
       "      <td>0</td>\n",
       "      <td>...</td>\n",
       "      <td>7</td>\n",
       "      <td>1180</td>\n",
       "      <td>0</td>\n",
       "      <td>1955</td>\n",
       "      <td>0</td>\n",
       "      <td>98178</td>\n",
       "      <td>47.5112</td>\n",
       "      <td>-122.257</td>\n",
       "      <td>1340</td>\n",
       "      <td>5650</td>\n",
       "    </tr>\n",
       "    <tr>\n",
       "      <th>1</th>\n",
       "      <td>6414100192</td>\n",
       "      <td>20141209T000000</td>\n",
       "      <td>538000.0</td>\n",
       "      <td>3</td>\n",
       "      <td>2.25</td>\n",
       "      <td>2570</td>\n",
       "      <td>7242</td>\n",
       "      <td>2.0</td>\n",
       "      <td>0</td>\n",
       "      <td>0</td>\n",
       "      <td>...</td>\n",
       "      <td>7</td>\n",
       "      <td>2170</td>\n",
       "      <td>400</td>\n",
       "      <td>1951</td>\n",
       "      <td>1991</td>\n",
       "      <td>98125</td>\n",
       "      <td>47.7210</td>\n",
       "      <td>-122.319</td>\n",
       "      <td>1690</td>\n",
       "      <td>7639</td>\n",
       "    </tr>\n",
       "    <tr>\n",
       "      <th>2</th>\n",
       "      <td>5631500400</td>\n",
       "      <td>20150225T000000</td>\n",
       "      <td>180000.0</td>\n",
       "      <td>2</td>\n",
       "      <td>1.00</td>\n",
       "      <td>770</td>\n",
       "      <td>10000</td>\n",
       "      <td>1.0</td>\n",
       "      <td>0</td>\n",
       "      <td>0</td>\n",
       "      <td>...</td>\n",
       "      <td>6</td>\n",
       "      <td>770</td>\n",
       "      <td>0</td>\n",
       "      <td>1933</td>\n",
       "      <td>0</td>\n",
       "      <td>98028</td>\n",
       "      <td>47.7379</td>\n",
       "      <td>-122.233</td>\n",
       "      <td>2720</td>\n",
       "      <td>8062</td>\n",
       "    </tr>\n",
       "    <tr>\n",
       "      <th>3</th>\n",
       "      <td>2487200875</td>\n",
       "      <td>20141209T000000</td>\n",
       "      <td>604000.0</td>\n",
       "      <td>4</td>\n",
       "      <td>3.00</td>\n",
       "      <td>1960</td>\n",
       "      <td>5000</td>\n",
       "      <td>1.0</td>\n",
       "      <td>0</td>\n",
       "      <td>0</td>\n",
       "      <td>...</td>\n",
       "      <td>7</td>\n",
       "      <td>1050</td>\n",
       "      <td>910</td>\n",
       "      <td>1965</td>\n",
       "      <td>0</td>\n",
       "      <td>98136</td>\n",
       "      <td>47.5208</td>\n",
       "      <td>-122.393</td>\n",
       "      <td>1360</td>\n",
       "      <td>5000</td>\n",
       "    </tr>\n",
       "    <tr>\n",
       "      <th>4</th>\n",
       "      <td>1954400510</td>\n",
       "      <td>20150218T000000</td>\n",
       "      <td>510000.0</td>\n",
       "      <td>3</td>\n",
       "      <td>2.00</td>\n",
       "      <td>1680</td>\n",
       "      <td>8080</td>\n",
       "      <td>1.0</td>\n",
       "      <td>0</td>\n",
       "      <td>0</td>\n",
       "      <td>...</td>\n",
       "      <td>8</td>\n",
       "      <td>1680</td>\n",
       "      <td>0</td>\n",
       "      <td>1987</td>\n",
       "      <td>0</td>\n",
       "      <td>98074</td>\n",
       "      <td>47.6168</td>\n",
       "      <td>-122.045</td>\n",
       "      <td>1800</td>\n",
       "      <td>7503</td>\n",
       "    </tr>\n",
       "  </tbody>\n",
       "</table>\n",
       "<p>5 rows × 21 columns</p>\n",
       "</div>"
      ],
      "text/plain": [
       "           id             date     price  bedrooms  bathrooms  sqft_living   \n",
       "0  7129300520  20141013T000000  221900.0         3       1.00         1180  \\\n",
       "1  6414100192  20141209T000000  538000.0         3       2.25         2570   \n",
       "2  5631500400  20150225T000000  180000.0         2       1.00          770   \n",
       "3  2487200875  20141209T000000  604000.0         4       3.00         1960   \n",
       "4  1954400510  20150218T000000  510000.0         3       2.00         1680   \n",
       "\n",
       "   sqft_lot  floors  waterfront  view  ...  grade  sqft_above  sqft_basement   \n",
       "0      5650     1.0           0     0  ...      7        1180              0  \\\n",
       "1      7242     2.0           0     0  ...      7        2170            400   \n",
       "2     10000     1.0           0     0  ...      6         770              0   \n",
       "3      5000     1.0           0     0  ...      7        1050            910   \n",
       "4      8080     1.0           0     0  ...      8        1680              0   \n",
       "\n",
       "   yr_built  yr_renovated  zipcode      lat     long  sqft_living15   \n",
       "0      1955             0    98178  47.5112 -122.257           1340  \\\n",
       "1      1951          1991    98125  47.7210 -122.319           1690   \n",
       "2      1933             0    98028  47.7379 -122.233           2720   \n",
       "3      1965             0    98136  47.5208 -122.393           1360   \n",
       "4      1987             0    98074  47.6168 -122.045           1800   \n",
       "\n",
       "   sqft_lot15  \n",
       "0        5650  \n",
       "1        7639  \n",
       "2        8062  \n",
       "3        5000  \n",
       "4        7503  \n",
       "\n",
       "[5 rows x 21 columns]"
      ]
     },
     "execution_count": 2,
     "metadata": {},
     "output_type": "execute_result"
    }
   ],
   "source": [
    "# вывод на экран первых пять записей\n",
    "df.head()"
   ]
  },
  {
   "cell_type": "code",
   "execution_count": 3,
   "id": "1936b4d3",
   "metadata": {},
   "outputs": [
    {
     "data": {
      "text/html": [
       "<div>\n",
       "<style scoped>\n",
       "    .dataframe tbody tr th:only-of-type {\n",
       "        vertical-align: middle;\n",
       "    }\n",
       "\n",
       "    .dataframe tbody tr th {\n",
       "        vertical-align: top;\n",
       "    }\n",
       "\n",
       "    .dataframe thead th {\n",
       "        text-align: right;\n",
       "    }\n",
       "</style>\n",
       "<table border=\"1\" class=\"dataframe\">\n",
       "  <thead>\n",
       "    <tr style=\"text-align: right;\">\n",
       "      <th></th>\n",
       "      <th>id</th>\n",
       "      <th>price</th>\n",
       "      <th>bedrooms</th>\n",
       "      <th>bathrooms</th>\n",
       "      <th>sqft_living</th>\n",
       "      <th>sqft_lot</th>\n",
       "      <th>floors</th>\n",
       "      <th>waterfront</th>\n",
       "      <th>view</th>\n",
       "      <th>condition</th>\n",
       "      <th>grade</th>\n",
       "      <th>sqft_above</th>\n",
       "      <th>sqft_basement</th>\n",
       "      <th>yr_built</th>\n",
       "      <th>yr_renovated</th>\n",
       "      <th>zipcode</th>\n",
       "      <th>lat</th>\n",
       "      <th>long</th>\n",
       "      <th>sqft_living15</th>\n",
       "      <th>sqft_lot15</th>\n",
       "    </tr>\n",
       "  </thead>\n",
       "  <tbody>\n",
       "    <tr>\n",
       "      <th>count</th>\n",
       "      <td>2.161300e+04</td>\n",
       "      <td>21613.00</td>\n",
       "      <td>21613.00</td>\n",
       "      <td>21613.00</td>\n",
       "      <td>21613.00</td>\n",
       "      <td>21613.00</td>\n",
       "      <td>21613.00</td>\n",
       "      <td>21613.00</td>\n",
       "      <td>21613.00</td>\n",
       "      <td>21613.00</td>\n",
       "      <td>21613.00</td>\n",
       "      <td>21613.00</td>\n",
       "      <td>21613.00</td>\n",
       "      <td>21613.00</td>\n",
       "      <td>21613.00</td>\n",
       "      <td>21613.00</td>\n",
       "      <td>21613.00</td>\n",
       "      <td>21613.00</td>\n",
       "      <td>21613.00</td>\n",
       "      <td>21613.00</td>\n",
       "    </tr>\n",
       "    <tr>\n",
       "      <th>mean</th>\n",
       "      <td>4.580302e+09</td>\n",
       "      <td>540088.14</td>\n",
       "      <td>3.37</td>\n",
       "      <td>2.11</td>\n",
       "      <td>2079.90</td>\n",
       "      <td>15106.97</td>\n",
       "      <td>1.49</td>\n",
       "      <td>0.01</td>\n",
       "      <td>0.23</td>\n",
       "      <td>3.41</td>\n",
       "      <td>7.66</td>\n",
       "      <td>1788.39</td>\n",
       "      <td>291.51</td>\n",
       "      <td>1971.01</td>\n",
       "      <td>84.40</td>\n",
       "      <td>98077.94</td>\n",
       "      <td>47.56</td>\n",
       "      <td>-122.21</td>\n",
       "      <td>1986.55</td>\n",
       "      <td>12768.46</td>\n",
       "    </tr>\n",
       "    <tr>\n",
       "      <th>std</th>\n",
       "      <td>2.876566e+09</td>\n",
       "      <td>367127.20</td>\n",
       "      <td>0.93</td>\n",
       "      <td>0.77</td>\n",
       "      <td>918.44</td>\n",
       "      <td>41420.51</td>\n",
       "      <td>0.54</td>\n",
       "      <td>0.09</td>\n",
       "      <td>0.77</td>\n",
       "      <td>0.65</td>\n",
       "      <td>1.18</td>\n",
       "      <td>828.09</td>\n",
       "      <td>442.58</td>\n",
       "      <td>29.37</td>\n",
       "      <td>401.68</td>\n",
       "      <td>53.51</td>\n",
       "      <td>0.14</td>\n",
       "      <td>0.14</td>\n",
       "      <td>685.39</td>\n",
       "      <td>27304.18</td>\n",
       "    </tr>\n",
       "    <tr>\n",
       "      <th>min</th>\n",
       "      <td>1.000102e+06</td>\n",
       "      <td>75000.00</td>\n",
       "      <td>0.00</td>\n",
       "      <td>0.00</td>\n",
       "      <td>290.00</td>\n",
       "      <td>520.00</td>\n",
       "      <td>1.00</td>\n",
       "      <td>0.00</td>\n",
       "      <td>0.00</td>\n",
       "      <td>1.00</td>\n",
       "      <td>1.00</td>\n",
       "      <td>290.00</td>\n",
       "      <td>0.00</td>\n",
       "      <td>1900.00</td>\n",
       "      <td>0.00</td>\n",
       "      <td>98001.00</td>\n",
       "      <td>47.16</td>\n",
       "      <td>-122.52</td>\n",
       "      <td>399.00</td>\n",
       "      <td>651.00</td>\n",
       "    </tr>\n",
       "    <tr>\n",
       "      <th>25%</th>\n",
       "      <td>2.123049e+09</td>\n",
       "      <td>321950.00</td>\n",
       "      <td>3.00</td>\n",
       "      <td>1.75</td>\n",
       "      <td>1427.00</td>\n",
       "      <td>5040.00</td>\n",
       "      <td>1.00</td>\n",
       "      <td>0.00</td>\n",
       "      <td>0.00</td>\n",
       "      <td>3.00</td>\n",
       "      <td>7.00</td>\n",
       "      <td>1190.00</td>\n",
       "      <td>0.00</td>\n",
       "      <td>1951.00</td>\n",
       "      <td>0.00</td>\n",
       "      <td>98033.00</td>\n",
       "      <td>47.47</td>\n",
       "      <td>-122.33</td>\n",
       "      <td>1490.00</td>\n",
       "      <td>5100.00</td>\n",
       "    </tr>\n",
       "    <tr>\n",
       "      <th>50%</th>\n",
       "      <td>3.904930e+09</td>\n",
       "      <td>450000.00</td>\n",
       "      <td>3.00</td>\n",
       "      <td>2.25</td>\n",
       "      <td>1910.00</td>\n",
       "      <td>7618.00</td>\n",
       "      <td>1.50</td>\n",
       "      <td>0.00</td>\n",
       "      <td>0.00</td>\n",
       "      <td>3.00</td>\n",
       "      <td>7.00</td>\n",
       "      <td>1560.00</td>\n",
       "      <td>0.00</td>\n",
       "      <td>1975.00</td>\n",
       "      <td>0.00</td>\n",
       "      <td>98065.00</td>\n",
       "      <td>47.57</td>\n",
       "      <td>-122.23</td>\n",
       "      <td>1840.00</td>\n",
       "      <td>7620.00</td>\n",
       "    </tr>\n",
       "    <tr>\n",
       "      <th>75%</th>\n",
       "      <td>7.308900e+09</td>\n",
       "      <td>645000.00</td>\n",
       "      <td>4.00</td>\n",
       "      <td>2.50</td>\n",
       "      <td>2550.00</td>\n",
       "      <td>10688.00</td>\n",
       "      <td>2.00</td>\n",
       "      <td>0.00</td>\n",
       "      <td>0.00</td>\n",
       "      <td>4.00</td>\n",
       "      <td>8.00</td>\n",
       "      <td>2210.00</td>\n",
       "      <td>560.00</td>\n",
       "      <td>1997.00</td>\n",
       "      <td>0.00</td>\n",
       "      <td>98118.00</td>\n",
       "      <td>47.68</td>\n",
       "      <td>-122.12</td>\n",
       "      <td>2360.00</td>\n",
       "      <td>10083.00</td>\n",
       "    </tr>\n",
       "    <tr>\n",
       "      <th>max</th>\n",
       "      <td>9.900000e+09</td>\n",
       "      <td>7700000.00</td>\n",
       "      <td>33.00</td>\n",
       "      <td>8.00</td>\n",
       "      <td>13540.00</td>\n",
       "      <td>1651359.00</td>\n",
       "      <td>3.50</td>\n",
       "      <td>1.00</td>\n",
       "      <td>4.00</td>\n",
       "      <td>5.00</td>\n",
       "      <td>13.00</td>\n",
       "      <td>9410.00</td>\n",
       "      <td>4820.00</td>\n",
       "      <td>2015.00</td>\n",
       "      <td>2015.00</td>\n",
       "      <td>98199.00</td>\n",
       "      <td>47.78</td>\n",
       "      <td>-121.32</td>\n",
       "      <td>6210.00</td>\n",
       "      <td>871200.00</td>\n",
       "    </tr>\n",
       "  </tbody>\n",
       "</table>\n",
       "</div>"
      ],
      "text/plain": [
       "                 id       price  bedrooms  bathrooms  sqft_living    sqft_lot   \n",
       "count  2.161300e+04    21613.00  21613.00   21613.00     21613.00    21613.00  \\\n",
       "mean   4.580302e+09   540088.14      3.37       2.11      2079.90    15106.97   \n",
       "std    2.876566e+09   367127.20      0.93       0.77       918.44    41420.51   \n",
       "min    1.000102e+06    75000.00      0.00       0.00       290.00      520.00   \n",
       "25%    2.123049e+09   321950.00      3.00       1.75      1427.00     5040.00   \n",
       "50%    3.904930e+09   450000.00      3.00       2.25      1910.00     7618.00   \n",
       "75%    7.308900e+09   645000.00      4.00       2.50      2550.00    10688.00   \n",
       "max    9.900000e+09  7700000.00     33.00       8.00     13540.00  1651359.00   \n",
       "\n",
       "         floors  waterfront      view  condition     grade  sqft_above   \n",
       "count  21613.00    21613.00  21613.00   21613.00  21613.00    21613.00  \\\n",
       "mean       1.49        0.01      0.23       3.41      7.66     1788.39   \n",
       "std        0.54        0.09      0.77       0.65      1.18      828.09   \n",
       "min        1.00        0.00      0.00       1.00      1.00      290.00   \n",
       "25%        1.00        0.00      0.00       3.00      7.00     1190.00   \n",
       "50%        1.50        0.00      0.00       3.00      7.00     1560.00   \n",
       "75%        2.00        0.00      0.00       4.00      8.00     2210.00   \n",
       "max        3.50        1.00      4.00       5.00     13.00     9410.00   \n",
       "\n",
       "       sqft_basement  yr_built  yr_renovated   zipcode       lat      long   \n",
       "count       21613.00  21613.00      21613.00  21613.00  21613.00  21613.00  \\\n",
       "mean          291.51   1971.01         84.40  98077.94     47.56   -122.21   \n",
       "std           442.58     29.37        401.68     53.51      0.14      0.14   \n",
       "min             0.00   1900.00          0.00  98001.00     47.16   -122.52   \n",
       "25%             0.00   1951.00          0.00  98033.00     47.47   -122.33   \n",
       "50%             0.00   1975.00          0.00  98065.00     47.57   -122.23   \n",
       "75%           560.00   1997.00          0.00  98118.00     47.68   -122.12   \n",
       "max          4820.00   2015.00       2015.00  98199.00     47.78   -121.32   \n",
       "\n",
       "       sqft_living15  sqft_lot15  \n",
       "count       21613.00    21613.00  \n",
       "mean         1986.55    12768.46  \n",
       "std           685.39    27304.18  \n",
       "min           399.00      651.00  \n",
       "25%          1490.00     5100.00  \n",
       "50%          1840.00     7620.00  \n",
       "75%          2360.00    10083.00  \n",
       "max          6210.00   871200.00  "
      ]
     },
     "execution_count": 3,
     "metadata": {},
     "output_type": "execute_result"
    }
   ],
   "source": [
    "# описание набора данных с округлением до сотых \n",
    "df.describe().round(2)"
   ]
  },
  {
   "cell_type": "markdown",
   "id": "f2a64596",
   "metadata": {},
   "source": [
    "Мы можем увидеть, что каждая запись имеет идентификатор, то есть идентификационный номер, а также дату, когда произошла транзакция. Эти две колонки не имеют отношения к нашему анализу, поэтому мы удалим их и продолжим без них."
   ]
  },
  {
   "cell_type": "code",
   "execution_count": 4,
   "id": "ba2f3603",
   "metadata": {},
   "outputs": [],
   "source": [
    "# удалим столбцы идентификатора и даты\n",
    "df = df.drop(['id', 'date'], axis=1)"
   ]
  },
  {
   "cell_type": "markdown",
   "id": "2a46b586",
   "metadata": {},
   "source": [
    "Внимательный читатель, наверное, уже заметил, что существует 21 613 наблюдений или записей. Давайте подтвердим это."
   ]
  },
  {
   "cell_type": "code",
   "execution_count": 5,
   "id": "8289200b",
   "metadata": {},
   "outputs": [
    {
     "data": {
      "text/plain": [
       "21613"
      ]
     },
     "execution_count": 5,
     "metadata": {},
     "output_type": "execute_result"
    }
   ],
   "source": [
    "# вывод числа записей\n",
    "len(df)"
   ]
  },
  {
   "cell_type": "markdown",
   "id": "d3e4fb7c",
   "metadata": {},
   "source": [
    "Однако нам также нужно посмотреть, сколько характеристик имеется в нашем наборе данных."
   ]
  },
  {
   "cell_type": "code",
   "execution_count": 6,
   "id": "f56221a7",
   "metadata": {},
   "outputs": [
    {
     "data": {
      "text/plain": [
       "19"
      ]
     },
     "execution_count": 6,
     "metadata": {},
     "output_type": "execute_result"
    }
   ],
   "source": [
    "# вывод количества характеристик (столбцов)\n",
    "len(df.columns)"
   ]
  },
  {
   "cell_type": "markdown",
   "id": "235a8a64",
   "metadata": {},
   "source": [
    "Поскольку количество характеристик невелико, вероятно, было бы хорошей идеей попробовать альтернативную реализацию, используя метод нормального уравнения. Тем не менее, мы продолжим и проверим типы данных и то, правильно ли они были интерпретированы."
   ]
  },
  {
   "cell_type": "code",
   "execution_count": 7,
   "id": "6d792165",
   "metadata": {},
   "outputs": [
    {
     "data": {
      "text/plain": [
       "price            float64\n",
       "bedrooms           int64\n",
       "bathrooms        float64\n",
       "sqft_living        int64\n",
       "sqft_lot           int64\n",
       "floors           float64\n",
       "waterfront         int64\n",
       "view               int64\n",
       "condition          int64\n",
       "grade              int64\n",
       "sqft_above         int64\n",
       "sqft_basement      int64\n",
       "yr_built           int64\n",
       "yr_renovated       int64\n",
       "zipcode            int64\n",
       "lat              float64\n",
       "long             float64\n",
       "sqft_living15      int64\n",
       "sqft_lot15         int64\n",
       "dtype: object"
      ]
     },
     "execution_count": 7,
     "metadata": {},
     "output_type": "execute_result"
    }
   ],
   "source": [
    "# проверка типов данных\n",
    "df.dtypes"
   ]
  },
  {
   "cell_type": "markdown",
   "id": "18880feb",
   "metadata": {},
   "source": [
    "Кроме того, всегда полезно проверить наличие любых отсутствующих значений или \"NaN\" в наборе данных."
   ]
  },
  {
   "cell_type": "code",
   "execution_count": 8,
   "id": "c5db916f",
   "metadata": {},
   "outputs": [
    {
     "data": {
      "text/plain": [
       "0"
      ]
     },
     "execution_count": 8,
     "metadata": {},
     "output_type": "execute_result"
    }
   ],
   "source": [
    "# вывод количества записей с нулевыми данными\n",
    "df.isnull().values.sum()"
   ]
  },
  {
   "cell_type": "markdown",
   "id": "33f71a78",
   "metadata": {},
   "source": [
    "## 3. Выбор характеристик\n",
    "В этом разделе мы собираемся использовать метод фильтрации, чтобы выбрать, какие характеристики на самом деле будут использоваться в алгоритме линейной регрессии. Однако прежде всего мы должны указать, какую целевую переменную мы хотим спрогнозировать (цену) и какие характеристики мы собираемся использовать (все остальные)."
   ]
  },
  {
   "cell_type": "code",
   "execution_count": 9,
   "id": "e54f35d5",
   "metadata": {},
   "outputs": [
    {
     "data": {
      "text/plain": [
       "['bedrooms',\n",
       " 'bathrooms',\n",
       " 'sqft_living',\n",
       " 'sqft_lot',\n",
       " 'floors',\n",
       " 'waterfront',\n",
       " 'view',\n",
       " 'condition',\n",
       " 'grade',\n",
       " 'sqft_above',\n",
       " 'sqft_basement',\n",
       " 'yr_built',\n",
       " 'yr_renovated',\n",
       " 'zipcode',\n",
       " 'lat',\n",
       " 'long',\n",
       " 'sqft_living15',\n",
       " 'sqft_lot15']"
      ]
     },
     "execution_count": 9,
     "metadata": {},
     "output_type": "execute_result"
    }
   ],
   "source": [
    "# Обявление/назначение цели и характеристик\n",
    "target = df.iloc[:, 0].name\n",
    "features = df.iloc[:, 1:].columns.tolist()\n",
    "features"
   ]
  },
  {
   "cell_type": "markdown",
   "id": "1eb7c75b",
   "metadata": {},
   "source": [
    "На этом этапе мы собираемся проверить корреляцию между нашей целевой переменной (ценой) и характеристиками."
   ]
  },
  {
   "cell_type": "code",
   "execution_count": 10,
   "id": "27962ca1",
   "metadata": {},
   "outputs": [
    {
     "data": {
      "text/plain": [
       "price            1.000000\n",
       "bedrooms         0.308350\n",
       "bathrooms        0.525138\n",
       "sqft_living      0.702035\n",
       "sqft_lot         0.089661\n",
       "floors           0.256794\n",
       "waterfront       0.266369\n",
       "view             0.397293\n",
       "condition        0.036362\n",
       "grade            0.667434\n",
       "sqft_above       0.605567\n",
       "sqft_basement    0.323816\n",
       "yr_built         0.054012\n",
       "yr_renovated     0.126434\n",
       "zipcode         -0.053203\n",
       "lat              0.307003\n",
       "long             0.021626\n",
       "sqft_living15    0.585379\n",
       "sqft_lot15       0.082447\n",
       "Name: price, dtype: float64"
      ]
     },
     "execution_count": 10,
     "metadata": {},
     "output_type": "execute_result"
    }
   ],
   "source": [
    "# корреляция характеристиков с целевой переменной\n",
    "correlations = df.corr()\n",
    "correlations['price']"
   ]
  },
  {
   "cell_type": "markdown",
   "id": "9242eae2",
   "metadata": {},
   "source": [
    "Используя метод фильтрации, мы собираемся выбрать, какие характеристики будут использоваться впоследствии. Хотя это произвольно и может быть оспорено, мы удалим все характеристики у которых корреляция с целевой переменной по модулю меньше 0,2."
   ]
  },
  {
   "cell_type": "code",
   "execution_count": 11,
   "id": "462a0065",
   "metadata": {},
   "outputs": [
    {
     "data": {
      "text/plain": [
       "sqft_lot        0.089661\n",
       "condition       0.036362\n",
       "yr_built        0.054012\n",
       "yr_renovated    0.126434\n",
       "zipcode         0.053203\n",
       "long            0.021626\n",
       "sqft_lot15      0.082447\n",
       "Name: price, dtype: float64"
      ]
     },
     "execution_count": 11,
     "metadata": {},
     "output_type": "execute_result"
    }
   ],
   "source": [
    "# корреляции с целевой переменной\n",
    "cor_target = abs(correlations['price'])\n",
    "\n",
    "# вывод характеристик с корреляцией < 0.2\n",
    "removed_features = cor_target[cor_target < 0.2]\n",
    "removed_features"
   ]
  },
  {
   "cell_type": "code",
   "execution_count": 12,
   "id": "03480a64",
   "metadata": {},
   "outputs": [],
   "source": [
    "# удаляем характеристики с корреляцией < 0.2\n",
    "df = df.drop(['sqft_lot', 'condition', 'yr_built', 'yr_renovated', 'zipcode', 'long', 'sqft_lot15'], axis=1)"
   ]
  },
  {
   "cell_type": "markdown",
   "id": "18902624",
   "metadata": {},
   "source": [
    "Кроме того, мы также должны убедиться, что остальные характеристики не очень сильно коррелируют друг с другом, т.е. что они являются - более или менее - независимыми переменными. Давайте построим корреляционную матрицу Пирсона, используя Matplotlib и Seaborn."
   ]
  },
  {
   "cell_type": "code",
   "execution_count": 13,
   "id": "ad441a12",
   "metadata": {},
   "outputs": [
    {
     "data": {
      "image/png": "[encoded data removed]",
      "text/plain": [
       "<Figure size 800x600 with 2 Axes>"
      ]
     },
     "metadata": {},
     "output_type": "display_data"
    }
   ],
   "source": [
    "# постройка корреляционной матрицы Пирсона\n",
    "fig_1 = plt.figure(figsize=(8, 6))\n",
    "new_correlations = df.corr()\n",
    "sns.heatmap(new_correlations, annot=True, cmap='Greens', annot_kws={'size': 8})\n",
    "plt.title('Корреляционная матрица Пирсона')\n",
    "plt.show()"
   ]
  },
  {
   "cell_type": "markdown",
   "id": "d8ace888",
   "metadata": {},
   "source": [
    "Из приведенного выше рисунка мы можем видеть, что некоторые характеристики сильно коррелируют друг с другом. Мы произвольно проведем поиск корреляций выше 0,75 и удалим объекты с наименьшей корреляцией с целевой переменной (ценой)."
   ]
  },
  {
   "cell_type": "code",
   "execution_count": 14,
   "id": "326409c1",
   "metadata": {},
   "outputs": [
    {
     "data": {
      "text/html": [
       "<div>\n",
       "<style scoped>\n",
       "    .dataframe tbody tr th:only-of-type {\n",
       "        vertical-align: middle;\n",
       "    }\n",
       "\n",
       "    .dataframe tbody tr th {\n",
       "        vertical-align: top;\n",
       "    }\n",
       "\n",
       "    .dataframe thead th {\n",
       "        text-align: right;\n",
       "    }\n",
       "</style>\n",
       "<table border=\"1\" class=\"dataframe\">\n",
       "  <thead>\n",
       "    <tr style=\"text-align: right;\">\n",
       "      <th></th>\n",
       "      <th>price</th>\n",
       "      <th>bedrooms</th>\n",
       "      <th>bathrooms</th>\n",
       "      <th>sqft_living</th>\n",
       "      <th>floors</th>\n",
       "      <th>waterfront</th>\n",
       "      <th>view</th>\n",
       "      <th>grade</th>\n",
       "      <th>sqft_above</th>\n",
       "      <th>sqft_basement</th>\n",
       "      <th>lat</th>\n",
       "      <th>sqft_living15</th>\n",
       "    </tr>\n",
       "  </thead>\n",
       "  <tbody>\n",
       "    <tr>\n",
       "      <th>price</th>\n",
       "      <td>1.0</td>\n",
       "      <td>-</td>\n",
       "      <td>-</td>\n",
       "      <td>-</td>\n",
       "      <td>-</td>\n",
       "      <td>-</td>\n",
       "      <td>-</td>\n",
       "      <td>-</td>\n",
       "      <td>-</td>\n",
       "      <td>-</td>\n",
       "      <td>-</td>\n",
       "      <td>-</td>\n",
       "    </tr>\n",
       "    <tr>\n",
       "      <th>bedrooms</th>\n",
       "      <td>-</td>\n",
       "      <td>1.0</td>\n",
       "      <td>-</td>\n",
       "      <td>-</td>\n",
       "      <td>-</td>\n",
       "      <td>-</td>\n",
       "      <td>-</td>\n",
       "      <td>-</td>\n",
       "      <td>-</td>\n",
       "      <td>-</td>\n",
       "      <td>-</td>\n",
       "      <td>-</td>\n",
       "    </tr>\n",
       "    <tr>\n",
       "      <th>bathrooms</th>\n",
       "      <td>-</td>\n",
       "      <td>-</td>\n",
       "      <td>1.0</td>\n",
       "      <td>0.754665</td>\n",
       "      <td>-</td>\n",
       "      <td>-</td>\n",
       "      <td>-</td>\n",
       "      <td>-</td>\n",
       "      <td>-</td>\n",
       "      <td>-</td>\n",
       "      <td>-</td>\n",
       "      <td>-</td>\n",
       "    </tr>\n",
       "    <tr>\n",
       "      <th>sqft_living</th>\n",
       "      <td>-</td>\n",
       "      <td>-</td>\n",
       "      <td>0.754665</td>\n",
       "      <td>1.0</td>\n",
       "      <td>-</td>\n",
       "      <td>-</td>\n",
       "      <td>-</td>\n",
       "      <td>0.762704</td>\n",
       "      <td>0.876597</td>\n",
       "      <td>-</td>\n",
       "      <td>-</td>\n",
       "      <td>0.75642</td>\n",
       "    </tr>\n",
       "    <tr>\n",
       "      <th>floors</th>\n",
       "      <td>-</td>\n",
       "      <td>-</td>\n",
       "      <td>-</td>\n",
       "      <td>-</td>\n",
       "      <td>1.0</td>\n",
       "      <td>-</td>\n",
       "      <td>-</td>\n",
       "      <td>-</td>\n",
       "      <td>-</td>\n",
       "      <td>-</td>\n",
       "      <td>-</td>\n",
       "      <td>-</td>\n",
       "    </tr>\n",
       "    <tr>\n",
       "      <th>waterfront</th>\n",
       "      <td>-</td>\n",
       "      <td>-</td>\n",
       "      <td>-</td>\n",
       "      <td>-</td>\n",
       "      <td>-</td>\n",
       "      <td>1.0</td>\n",
       "      <td>-</td>\n",
       "      <td>-</td>\n",
       "      <td>-</td>\n",
       "      <td>-</td>\n",
       "      <td>-</td>\n",
       "      <td>-</td>\n",
       "    </tr>\n",
       "    <tr>\n",
       "      <th>view</th>\n",
       "      <td>-</td>\n",
       "      <td>-</td>\n",
       "      <td>-</td>\n",
       "      <td>-</td>\n",
       "      <td>-</td>\n",
       "      <td>-</td>\n",
       "      <td>1.0</td>\n",
       "      <td>-</td>\n",
       "      <td>-</td>\n",
       "      <td>-</td>\n",
       "      <td>-</td>\n",
       "      <td>-</td>\n",
       "    </tr>\n",
       "    <tr>\n",
       "      <th>grade</th>\n",
       "      <td>-</td>\n",
       "      <td>-</td>\n",
       "      <td>-</td>\n",
       "      <td>0.762704</td>\n",
       "      <td>-</td>\n",
       "      <td>-</td>\n",
       "      <td>-</td>\n",
       "      <td>1.0</td>\n",
       "      <td>0.755923</td>\n",
       "      <td>-</td>\n",
       "      <td>-</td>\n",
       "      <td>-</td>\n",
       "    </tr>\n",
       "    <tr>\n",
       "      <th>sqft_above</th>\n",
       "      <td>-</td>\n",
       "      <td>-</td>\n",
       "      <td>-</td>\n",
       "      <td>0.876597</td>\n",
       "      <td>-</td>\n",
       "      <td>-</td>\n",
       "      <td>-</td>\n",
       "      <td>0.755923</td>\n",
       "      <td>1.0</td>\n",
       "      <td>-</td>\n",
       "      <td>-</td>\n",
       "      <td>-</td>\n",
       "    </tr>\n",
       "    <tr>\n",
       "      <th>sqft_basement</th>\n",
       "      <td>-</td>\n",
       "      <td>-</td>\n",
       "      <td>-</td>\n",
       "      <td>-</td>\n",
       "      <td>-</td>\n",
       "      <td>-</td>\n",
       "      <td>-</td>\n",
       "      <td>-</td>\n",
       "      <td>-</td>\n",
       "      <td>1.0</td>\n",
       "      <td>-</td>\n",
       "      <td>-</td>\n",
       "    </tr>\n",
       "    <tr>\n",
       "      <th>lat</th>\n",
       "      <td>-</td>\n",
       "      <td>-</td>\n",
       "      <td>-</td>\n",
       "      <td>-</td>\n",
       "      <td>-</td>\n",
       "      <td>-</td>\n",
       "      <td>-</td>\n",
       "      <td>-</td>\n",
       "      <td>-</td>\n",
       "      <td>-</td>\n",
       "      <td>1.0</td>\n",
       "      <td>-</td>\n",
       "    </tr>\n",
       "    <tr>\n",
       "      <th>sqft_living15</th>\n",
       "      <td>-</td>\n",
       "      <td>-</td>\n",
       "      <td>-</td>\n",
       "      <td>0.75642</td>\n",
       "      <td>-</td>\n",
       "      <td>-</td>\n",
       "      <td>-</td>\n",
       "      <td>-</td>\n",
       "      <td>-</td>\n",
       "      <td>-</td>\n",
       "      <td>-</td>\n",
       "      <td>1.0</td>\n",
       "    </tr>\n",
       "  </tbody>\n",
       "</table>\n",
       "</div>"
      ],
      "text/plain": [
       "              price bedrooms bathrooms sqft_living floors waterfront view   \n",
       "price           1.0        -         -           -      -          -    -  \\\n",
       "bedrooms          -      1.0         -           -      -          -    -   \n",
       "bathrooms         -        -       1.0    0.754665      -          -    -   \n",
       "sqft_living       -        -  0.754665         1.0      -          -    -   \n",
       "floors            -        -         -           -    1.0          -    -   \n",
       "waterfront        -        -         -           -      -        1.0    -   \n",
       "view              -        -         -           -      -          -  1.0   \n",
       "grade             -        -         -    0.762704      -          -    -   \n",
       "sqft_above        -        -         -    0.876597      -          -    -   \n",
       "sqft_basement     -        -         -           -      -          -    -   \n",
       "lat               -        -         -           -      -          -    -   \n",
       "sqft_living15     -        -         -     0.75642      -          -    -   \n",
       "\n",
       "                  grade sqft_above sqft_basement  lat sqft_living15  \n",
       "price                 -          -             -    -             -  \n",
       "bedrooms              -          -             -    -             -  \n",
       "bathrooms             -          -             -    -             -  \n",
       "sqft_living    0.762704   0.876597             -    -       0.75642  \n",
       "floors                -          -             -    -             -  \n",
       "waterfront            -          -             -    -             -  \n",
       "view                  -          -             -    -             -  \n",
       "grade               1.0   0.755923             -    -             -  \n",
       "sqft_above     0.755923        1.0             -    -             -  \n",
       "sqft_basement         -          -           1.0    -             -  \n",
       "lat                   -          -             -  1.0             -  \n",
       "sqft_living15         -          -             -    -           1.0  "
      ]
     },
     "execution_count": 14,
     "metadata": {},
     "output_type": "execute_result"
    }
   ],
   "source": [
    "# определим самые высокие взаимокорреляции\n",
    "highly_correlated_features = new_correlations[new_correlations > 0.75]\n",
    "highly_correlated_features.fillna('-')"
   ]
  },
  {
   "cell_type": "markdown",
   "id": "628cf797",
   "metadata": {},
   "source": [
    "Еще раз, это спорно и является результатом моей собственной интерпретации, но я придерживаюсь мнения, что, хотя существуют наборы переменных, которые действительно сильно коррелируют, они в конечном счете представляют собой две независимые переменные и должны быть сохранены такими, какие они есть. Я полагаю, что это имеет место со следующими наборами переменных:\n",
    "- (\"bathrooms\", \"sqft_living\")\n",
    "- (\"grade\", \"sqft_living\")\n",
    "- (\"grade\", sqft_above\")\n",
    "\n",
    "Напротив, я считаю, что переменная \"sqft_living\" не только сильно коррелирует с \"sqft_above\" (0,877) и \"sqft_living15\" (0,756), но и что она действительно представляет большую часть информации, необходимой нам для линейной регрессии. Действительно, согласно описанию исходного набора данных, найденного на [Kaggle](https://www.kaggle.com/datasets/harlfoxem/housesalesprediction), \"sqft_above\" - это площадь дома, не считая подвала, а \"sqft_living15\" - это площадь гостиной в 2015 году (что подразумевает ремонт). Также полезно отметить, что переменная \"grade\" задается системой оценки округа Кинг и относится к типам используемых материалов и качеству изготовления (более подробную информацию можно найти [здесь](https://info.kingcounty.gov/assessor/esales/Glossary.aspx?type=r#g)).\n",
    "\n",
    "Таким образом, я решил удалить еще две характеристики (\"sqft_above\" и \"sqft_living15\") и сохранить \"sqft_living\", которая имеет самую высокую корреляцию с целевой переменной (0,702).\n"
   ]
  },
  {
   "cell_type": "code",
   "execution_count": 15,
   "id": "138114f1",
   "metadata": {},
   "outputs": [],
   "source": [
    "# удаление характеристик, которые сильно коррелирует с \"sqft_living\"\n",
    "df = df.drop(['sqft_above', 'sqft_living15'], axis=1)"
   ]
  },
  {
   "cell_type": "markdown",
   "id": "0a824385",
   "metadata": {},
   "source": [
    "В конечном счете у нас остается 9 характеристик, которые будут использоваться для линейной регрессии. Давайте обновим характеристики и сохраним их количество."
   ]
  },
  {
   "cell_type": "code",
   "execution_count": 16,
   "id": "8f45e016",
   "metadata": {},
   "outputs": [
    {
     "data": {
      "text/plain": [
       "9"
      ]
     },
     "execution_count": 16,
     "metadata": {},
     "output_type": "execute_result"
    }
   ],
   "source": [
    "# обновление характеристик и сохранение их количества \n",
    "features = df.iloc[:, 1:].columns.tolist()\n",
    "len_of_features = len(features)\n",
    "len_of_features"
   ]
  },
  {
   "cell_type": "markdown",
   "id": "337c594f",
   "metadata": {},
   "source": [
    "## 4. Многомерная линейная регрессия\n",
    "В этом разделе мы собираемся реализовать наш алгоритм линейной регрессии. В самом начале мы собираемся нормализовать функции, чтобы обеспечить эффективную конвергенцию модели."
   ]
  },
  {
   "cell_type": "code",
   "execution_count": 17,
   "id": "673360f1",
   "metadata": {},
   "outputs": [],
   "source": [
    "# нормализация характеристик\n",
    "df.iloc[:, 1:] = (df - df.mean())/df.std()"
   ]
  },
  {
   "cell_type": "markdown",
   "id": "546c3ef0",
   "metadata": {},
   "source": [
    "Теперь мы собираемся создать матрицы X, y и тета (Θ). Мы могли бы также использовать циклы for, однако библиотека NumPy способна более эффективно обрабатывать численные вычисления, если операции векторизованы."
   ]
  },
  {
   "cell_type": "code",
   "execution_count": 18,
   "id": "8183da09",
   "metadata": {},
   "outputs": [],
   "source": [
    "# создание X, y и тета\n",
    "X = df.iloc[:, 1:]\n",
    "ones = np.ones([len(df), 1])\n",
    "X = np.concatenate((ones, X), axis=1)\n",
    "y = df.iloc[:, 0:1].values\n",
    "theta = np.zeros([1, len_of_features + 1])"
   ]
  },
  {
   "cell_type": "markdown",
   "id": "499411ab",
   "metadata": {},
   "source": [
    "Мы также собираемся сохранить целевую переменную и проверить размер матриц."
   ]
  },
  {
   "cell_type": "code",
   "execution_count": 19,
   "id": "9f67d579",
   "metadata": {},
   "outputs": [
    {
     "data": {
      "text/plain": [
       "((21613, 10), (21613, 1), (1, 10))"
      ]
     },
     "execution_count": 19,
     "metadata": {},
     "output_type": "execute_result"
    }
   ],
   "source": [
    "# сохранение целевой переменной\n",
    "target = y\n",
    "\n",
    "# вывод размеров матриц\n",
    "X.shape, y.shape, theta.shape"
   ]
  },
  {
   "cell_type": "markdown",
   "id": "bea8495f",
   "metadata": {},
   "source": [
    "На этом этапе определим функцию, которая вычисляет функцию затрат J(Θ)."
   ]
  },
  {
   "cell_type": "code",
   "execution_count": 20,
   "id": "1ad9eab4",
   "metadata": {},
   "outputs": [],
   "source": [
    "# определение функции затрат\n",
    "def computecost(X, y, theta):\n",
    "    H = X @ theta.T\n",
    "    J = np.power((H - y), 2)\n",
    "    sum = np.sum(J)/(2 * len(X))\n",
    "    return sum"
   ]
  },
  {
   "cell_type": "markdown",
   "id": "b0cea6f3",
   "metadata": {},
   "source": [
    "Необходимо задать параметры модели, т.е. количество общих итераций, а также скорость обучения альфа (α). Не стесняйтесь экспериментировать, изменяя эти параметры и проверяя, сходится ли модель и насколько быстро."
   ]
  },
  {
   "cell_type": "code",
   "execution_count": 21,
   "id": "d21fee74",
   "metadata": {},
   "outputs": [],
   "source": [
    "# установка числа итерраций и скорость обучения\n",
    "alpha = 0.01\n",
    "iterations = 500"
   ]
  },
  {
   "cell_type": "markdown",
   "id": "6af6daef",
   "metadata": {},
   "source": [
    "Мы также определим функцию, которая выполняет градиентный спуск, минимизируя функцию затрат."
   ]
  },
  {
   "cell_type": "code",
   "execution_count": 22,
   "id": "00852f73",
   "metadata": {},
   "outputs": [],
   "source": [
    "# определение функции градиентного спуска\n",
    "def gradientdescent(X, y, theta, iterations, alpha):\n",
    "    cost = np.zeros(iterations)\n",
    "    for i in range(iterations):\n",
    "        H = X @ theta.T\n",
    "        theta = theta - (alpha/len(X)) * np.sum(X * (H - y), axis=0)\n",
    "        cost[i] = computecost(X, y, theta)\n",
    "    return theta, cost"
   ]
  },
  {
   "cell_type": "markdown",
   "id": "d76c7da3",
   "metadata": {},
   "source": [
    "Теперь самый важный шаг, на котором мы фактически выполним градиентный спуск и напечатаем окончательную тэту. Именно здесь происходит \"обучающая\" часть."
   ]
  },
  {
   "cell_type": "code",
   "execution_count": 23,
   "id": "fe807e6b",
   "metadata": {},
   "outputs": [
    {
     "data": {
      "text/plain": [
       "array([[536539.5 , 313029.26,  -9094.94,  -7167.77,  31518.16,  -4641.62,\n",
       "          9291.36,   6753.66,  26431.37,   2035.61]])"
      ]
     },
     "execution_count": 23,
     "metadata": {},
     "output_type": "execute_result"
    }
   ],
   "source": [
    "# выполнение градиентного спуска и вывод конечной тэты\n",
    "final_theta, cost = gradientdescent(X, y, theta, iterations, alpha)\n",
    "final_theta.round(2)"
   ]
  },
  {
   "cell_type": "markdown",
   "id": "312541dc",
   "metadata": {},
   "source": [
    "Более того, мы рассчитаем и выведем окончательную стоимость."
   ]
  },
  {
   "cell_type": "code",
   "execution_count": 24,
   "id": "f188fd51",
   "metadata": {},
   "outputs": [
    {
     "data": {
      "text/plain": [
       "649331639.62"
      ]
     },
     "execution_count": 24,
     "metadata": {},
     "output_type": "execute_result"
    }
   ],
   "source": [
    "# вычисление и вывод окончательной стоимости\n",
    "final_cost = computecost(X, y, final_theta)\n",
    "final_cost.round(2)"
   ]
  },
  {
   "cell_type": "markdown",
   "id": "86863ed8",
   "metadata": {},
   "source": [
    "Чтобы проверить, сходится ли наш алгоритм, мы построим график зависимости итераций от стоимости."
   ]
  },
  {
   "cell_type": "code",
   "execution_count": 25,
   "id": "97b85026",
   "metadata": {},
   "outputs": [
    {
     "data": {
      "image/png": "[encoded data removed]",
      "text/plain": [
       "<Figure size 800x400 with 1 Axes>"
      ]
     },
     "metadata": {},
     "output_type": "display_data"
    }
   ],
   "source": [
    "# график итераций в зависимости от стоимости\n",
    "fig_2, ax = plt.subplots(figsize=(8, 4))\n",
    "ax.plot(np.arange(iterations), cost, 'r')\n",
    "ax.set_xlabel('Итерации')\n",
    "ax.set_ylabel('Стоимость')\n",
    "ax.set_title('Итерации от стоимости')\n",
    "plt.show()"
   ]
  },
  {
   "cell_type": "markdown",
   "id": "ae19731e",
   "metadata": {},
   "source": [
    "Кроме того, мы определим функцию, которая вычисляет среднеквадратичную ошибку (RMSE), чтобы измерить различия между значениями, предсказанными нашей моделью, и наблюдаемыми значениями, которые мы имели в начале нашего анализа. RMSE - это абсолютный показатель соответствия, и он выражен в тех же единицах, что и наша переменная ответа, то есть цена в долларах США."
   ]
  },
  {
   "cell_type": "code",
   "execution_count": 26,
   "id": "83732c68",
   "metadata": {},
   "outputs": [
    {
     "data": {
      "text/plain": [
       "36036.97"
      ]
     },
     "execution_count": 26,
     "metadata": {},
     "output_type": "execute_result"
    }
   ],
   "source": [
    "# определение rmse функции\n",
    "def rmse(target, final_theta):\n",
    "    predictions = X @ final_theta.T\n",
    "    return np.sqrt(((predictions[:, 0] - target[:, 0]) ** 2).mean())\n",
    "\n",
    "# вычисление и вывод среднеквадратичной ошибки \n",
    "rmse_val = rmse(target, final_theta)\n",
    "rmse_val.round(2)"
   ]
  },
  {
   "cell_type": "markdown",
   "id": "35c4046f",
   "metadata": {},
   "source": [
    "Мы видим, что значение RMSE является небольшим (~36 000 долларов США). Так как, если мы примем во внимание, что цены в исходном наборе данных варьировались от 75 000 до 7 700 000 долларов США и имели стандартное отклонение приблизительно в 367 000 долларов США (см. раздел 2), это значение RMSE можно считать нормальным. Наилучшим подходом было бы реализовать различные алгоритмы машинного обучения, сравнить их результаты и решить, какой из них лучше всего подходит для нашего случая.\n",
    "\n",
    "Наконец, давайте сделаем примерное предсказание, чтобы проверить, работает ли наш алгоритм так, как задумано. В наших данных мы используем нормализованные характеристики первого наблюдения, цена которого первоначально составляла 221 900 долларов США."
   ]
  },
  {
   "cell_type": "code",
   "execution_count": 27,
   "id": "04bbfafc",
   "metadata": {},
   "outputs": [
    {
     "data": {
      "text/plain": [
       "'[233620.11]'"
      ]
     },
     "execution_count": 27,
     "metadata": {},
     "output_type": "execute_result"
    }
   ],
   "source": [
    "# вывод предположения о выборке для первого наблюдения\n",
    "predictions = X @ final_theta.T\n",
    "str(predictions[0].round(2))"
   ]
  },
  {
   "cell_type": "markdown",
   "id": "f0a79bab",
   "metadata": {},
   "source": [
    "## 5. Заключение\n",
    "В этой статье мы применили алгоритм многомерной линейной регрессии, чтобы спрогнозировать цены продажи жилья в округе Кинг, США. Код был очень подробным и включал предварительный анализ набора данных и всесторонний выбор характеристик. Чтобы поближе взглянуть на то, что происходит за кулисами, мы использовали только библиотеки Pandas и NumPy.\n",
    "\n",
    "Как я уже говорил в начале, я открыт для любых вопросов, комментариев и идей о том, как улучшить ядро. Я надеюсь, что это оказалось полезным и что вам понравилось.\n",
    "\n",
    "Если вы хотите получить доступ к исходному коду и записной книжке Jupyter, вы можете найти их на [GitHub](https://github.com/droussis/linear_regression_house_prices).\n",
    "\n",
    "Помимо курса Эндрю Нг (и, в частности, содержания недель 1 и 2), в моей реализации использовались следующие веб-сайты, на которые оказали влияние:\n",
    "- https://medium.com/we-are-orb/multivariate-linear-regression-in-python-without-scikit-learn-7091b1d45905\n",
    "- https://towardsdatascience.com/andrew-ngs-machine-learning-course-in-python-linear-regression-dd04fba8e137\n",
    "- https://towardsdatascience.com/feature-selection-with-pandas-e3690ad8504b\n",
    "- https://www.dataquest.io/blog/understanding-regression-error-metrics/\n",
    "- https://www.statisticshowto.datasciencecentral.com/rmse/\n",
    "- https://www.theanalysisfactor.com/assessing-the-fit-of-regression-models/"
   ]
  },
  {
   "cell_type": "code",
   "execution_count": null,
   "id": "9430b66c",
   "metadata": {},
   "outputs": [],
   "source": []
  }
 ],
 "metadata": {
  "kernelspec": {
   "display_name": "Python 3 (ipykernel)",
   "language": "python",
   "name": "python3"
  },
  "language_info": {
   "codemirror_mode": {
    "name": "ipython",
    "version": 3
   },
   "file_extension": ".py",
   "mimetype": "text/x-python",
   "name": "python",
   "nbconvert_exporter": "python",
   "pygments_lexer": "ipython3",
   "version": "3.9.7"
  }
 },
 "nbformat": 4,
 "nbformat_minor": 5
}
