{
 "cells": [
  {
   "cell_type": "markdown",
   "id": "bf92da29",
   "metadata": {},
   "source": [
    "ЗАДАЧА КЛАССИФИКАЦИИ"
   ]
  },
  {
   "cell_type": "code",
   "execution_count": 1,
   "id": "af50abbd",
   "metadata": {},
   "outputs": [],
   "source": [
    "import numpy as np\n",
    "import pandas as pd\n",
    "import matplotlib.pyplot as plt"
   ]
  },
  {
   "cell_type": "code",
   "execution_count": 2,
   "id": "01ba68ae",
   "metadata": {},
   "outputs": [],
   "source": [
    "train_df = pd.read_csv('titanik/train.csv', index_col='PassengerId')\n",
    "# test_df = pd.read_csv('titanik/test.csv', index_col='PassengerId')\n",
    "# combine = [train_df, test_df]"
   ]
  },
  {
   "cell_type": "code",
   "execution_count": 3,
   "id": "6cf9b199",
   "metadata": {},
   "outputs": [
    {
     "name": "stdout",
     "output_type": "stream",
     "text": [
      "['Survived' 'Pclass' 'Name' 'Sex' 'Age' 'SibSp' 'Parch' 'Ticket' 'Fare'\n",
      " 'Cabin' 'Embarked']\n"
     ]
    }
   ],
   "source": [
    "#Атрибуты таблицы\n",
    "print(train_df.columns.values)"
   ]
  },
  {
   "cell_type": "code",
   "execution_count": 5,
   "id": "7bec5ec6",
   "metadata": {},
   "outputs": [
    {
     "data": {
      "text/html": [
       "<div>\n",
       "<style scoped>\n",
       "    .dataframe tbody tr th:only-of-type {\n",
       "        vertical-align: middle;\n",
       "    }\n",
       "\n",
       "    .dataframe tbody tr th {\n",
       "        vertical-align: top;\n",
       "    }\n",
       "\n",
       "    .dataframe thead th {\n",
       "        text-align: right;\n",
       "    }\n",
       "</style>\n",
       "<table border=\"1\" class=\"dataframe\">\n",
       "  <thead>\n",
       "    <tr style=\"text-align: right;\">\n",
       "      <th></th>\n",
       "      <th>Survived</th>\n",
       "      <th>Pclass</th>\n",
       "      <th>Name</th>\n",
       "      <th>Sex</th>\n",
       "      <th>Age</th>\n",
       "      <th>SibSp</th>\n",
       "      <th>Parch</th>\n",
       "      <th>Ticket</th>\n",
       "      <th>Fare</th>\n",
       "      <th>Cabin</th>\n",
       "      <th>Embarked</th>\n",
       "    </tr>\n",
       "    <tr>\n",
       "      <th>PassengerId</th>\n",
       "      <th></th>\n",
       "      <th></th>\n",
       "      <th></th>\n",
       "      <th></th>\n",
       "      <th></th>\n",
       "      <th></th>\n",
       "      <th></th>\n",
       "      <th></th>\n",
       "      <th></th>\n",
       "      <th></th>\n",
       "      <th></th>\n",
       "    </tr>\n",
       "  </thead>\n",
       "  <tbody>\n",
       "    <tr>\n",
       "      <th>1</th>\n",
       "      <td>0</td>\n",
       "      <td>3</td>\n",
       "      <td>Braund, Mr. Owen Harris</td>\n",
       "      <td>male</td>\n",
       "      <td>22.0</td>\n",
       "      <td>1</td>\n",
       "      <td>0</td>\n",
       "      <td>A/5 21171</td>\n",
       "      <td>7.2500</td>\n",
       "      <td>NaN</td>\n",
       "      <td>S</td>\n",
       "    </tr>\n",
       "    <tr>\n",
       "      <th>2</th>\n",
       "      <td>1</td>\n",
       "      <td>1</td>\n",
       "      <td>Cumings, Mrs. John Bradley (Florence Briggs Th...</td>\n",
       "      <td>female</td>\n",
       "      <td>38.0</td>\n",
       "      <td>1</td>\n",
       "      <td>0</td>\n",
       "      <td>PC 17599</td>\n",
       "      <td>71.2833</td>\n",
       "      <td>C85</td>\n",
       "      <td>C</td>\n",
       "    </tr>\n",
       "    <tr>\n",
       "      <th>3</th>\n",
       "      <td>1</td>\n",
       "      <td>3</td>\n",
       "      <td>Heikkinen, Miss. Laina</td>\n",
       "      <td>female</td>\n",
       "      <td>26.0</td>\n",
       "      <td>0</td>\n",
       "      <td>0</td>\n",
       "      <td>STON/O2. 3101282</td>\n",
       "      <td>7.9250</td>\n",
       "      <td>NaN</td>\n",
       "      <td>S</td>\n",
       "    </tr>\n",
       "    <tr>\n",
       "      <th>4</th>\n",
       "      <td>1</td>\n",
       "      <td>1</td>\n",
       "      <td>Futrelle, Mrs. Jacques Heath (Lily May Peel)</td>\n",
       "      <td>female</td>\n",
       "      <td>35.0</td>\n",
       "      <td>1</td>\n",
       "      <td>0</td>\n",
       "      <td>113803</td>\n",
       "      <td>53.1000</td>\n",
       "      <td>C123</td>\n",
       "      <td>S</td>\n",
       "    </tr>\n",
       "    <tr>\n",
       "      <th>5</th>\n",
       "      <td>0</td>\n",
       "      <td>3</td>\n",
       "      <td>Allen, Mr. William Henry</td>\n",
       "      <td>male</td>\n",
       "      <td>35.0</td>\n",
       "      <td>0</td>\n",
       "      <td>0</td>\n",
       "      <td>373450</td>\n",
       "      <td>8.0500</td>\n",
       "      <td>NaN</td>\n",
       "      <td>S</td>\n",
       "    </tr>\n",
       "  </tbody>\n",
       "</table>\n",
       "</div>"
      ],
      "text/plain": [
       "             Survived  Pclass  \\\n",
       "PassengerId                     \n",
       "1                   0       3   \n",
       "2                   1       1   \n",
       "3                   1       3   \n",
       "4                   1       1   \n",
       "5                   0       3   \n",
       "\n",
       "                                                          Name     Sex   Age  \\\n",
       "PassengerId                                                                    \n",
       "1                                      Braund, Mr. Owen Harris    male  22.0   \n",
       "2            Cumings, Mrs. John Bradley (Florence Briggs Th...  female  38.0   \n",
       "3                                       Heikkinen, Miss. Laina  female  26.0   \n",
       "4                 Futrelle, Mrs. Jacques Heath (Lily May Peel)  female  35.0   \n",
       "5                                     Allen, Mr. William Henry    male  35.0   \n",
       "\n",
       "             SibSp  Parch            Ticket     Fare Cabin Embarked  \n",
       "PassengerId                                                          \n",
       "1                1      0         A/5 21171   7.2500   NaN        S  \n",
       "2                1      0          PC 17599  71.2833   C85        C  \n",
       "3                0      0  STON/O2. 3101282   7.9250   NaN        S  \n",
       "4                1      0            113803  53.1000  C123        S  \n",
       "5                0      0            373450   8.0500   NaN        S  "
      ]
     },
     "execution_count": 5,
     "metadata": {},
     "output_type": "execute_result"
    }
   ],
   "source": [
    "#Пример данных\n",
    "train_df.head(5)"
   ]
  },
  {
   "cell_type": "code",
   "execution_count": 6,
   "id": "784e744b",
   "metadata": {},
   "outputs": [
    {
     "data": {
      "text/plain": [
       "-0.5494996199439081"
      ]
     },
     "execution_count": 6,
     "metadata": {},
     "output_type": "execute_result"
    }
   ],
   "source": [
    "train_df['Pclass'].corr(train_df['Fare'])"
   ]
  },
  {
   "cell_type": "code",
   "execution_count": 7,
   "id": "3414c172",
   "metadata": {},
   "outputs": [
    {
     "data": {
      "text/html": [
       "<div>\n",
       "<style scoped>\n",
       "    .dataframe tbody tr th:only-of-type {\n",
       "        vertical-align: middle;\n",
       "    }\n",
       "\n",
       "    .dataframe tbody tr th {\n",
       "        vertical-align: top;\n",
       "    }\n",
       "\n",
       "    .dataframe thead th {\n",
       "        text-align: right;\n",
       "    }\n",
       "</style>\n",
       "<table border=\"1\" class=\"dataframe\">\n",
       "  <thead>\n",
       "    <tr style=\"text-align: right;\">\n",
       "      <th></th>\n",
       "      <th>Survived</th>\n",
       "      <th>Fare</th>\n",
       "      <th>Sex</th>\n",
       "      <th>Age</th>\n",
       "      <th>Parch</th>\n",
       "      <th>SibSp</th>\n",
       "      <th>Pclass</th>\n",
       "    </tr>\n",
       "    <tr>\n",
       "      <th>PassengerId</th>\n",
       "      <th></th>\n",
       "      <th></th>\n",
       "      <th></th>\n",
       "      <th></th>\n",
       "      <th></th>\n",
       "      <th></th>\n",
       "      <th></th>\n",
       "    </tr>\n",
       "  </thead>\n",
       "  <tbody>\n",
       "    <tr>\n",
       "      <th>1</th>\n",
       "      <td>0</td>\n",
       "      <td>7.2500</td>\n",
       "      <td>male</td>\n",
       "      <td>22.0</td>\n",
       "      <td>0</td>\n",
       "      <td>1</td>\n",
       "      <td>3</td>\n",
       "    </tr>\n",
       "    <tr>\n",
       "      <th>2</th>\n",
       "      <td>1</td>\n",
       "      <td>71.2833</td>\n",
       "      <td>female</td>\n",
       "      <td>38.0</td>\n",
       "      <td>0</td>\n",
       "      <td>1</td>\n",
       "      <td>1</td>\n",
       "    </tr>\n",
       "    <tr>\n",
       "      <th>3</th>\n",
       "      <td>1</td>\n",
       "      <td>7.9250</td>\n",
       "      <td>female</td>\n",
       "      <td>26.0</td>\n",
       "      <td>0</td>\n",
       "      <td>0</td>\n",
       "      <td>3</td>\n",
       "    </tr>\n",
       "    <tr>\n",
       "      <th>4</th>\n",
       "      <td>1</td>\n",
       "      <td>53.1000</td>\n",
       "      <td>female</td>\n",
       "      <td>35.0</td>\n",
       "      <td>0</td>\n",
       "      <td>1</td>\n",
       "      <td>1</td>\n",
       "    </tr>\n",
       "    <tr>\n",
       "      <th>5</th>\n",
       "      <td>0</td>\n",
       "      <td>8.0500</td>\n",
       "      <td>male</td>\n",
       "      <td>35.0</td>\n",
       "      <td>0</td>\n",
       "      <td>0</td>\n",
       "      <td>3</td>\n",
       "    </tr>\n",
       "  </tbody>\n",
       "</table>\n",
       "</div>"
      ],
      "text/plain": [
       "             Survived     Fare     Sex   Age  Parch  SibSp  Pclass\n",
       "PassengerId                                                       \n",
       "1                   0   7.2500    male  22.0      0      1       3\n",
       "2                   1  71.2833  female  38.0      0      1       1\n",
       "3                   1   7.9250  female  26.0      0      0       3\n",
       "4                   1  53.1000  female  35.0      0      1       1\n",
       "5                   0   8.0500    male  35.0      0      0       3"
      ]
     },
     "execution_count": 7,
     "metadata": {},
     "output_type": "execute_result"
    }
   ],
   "source": [
    "dataset = train_df[['Survived', 'Fare', 'Sex', 'Age', 'Parch', 'SibSp', 'Pclass' ]]\n",
    "dataset = dataset.dropna()\n",
    "dataset.head()"
   ]
  },
  {
   "cell_type": "code",
   "execution_count": 8,
   "id": "3a586c10",
   "metadata": {},
   "outputs": [
    {
     "data": {
      "text/html": [
       "<div>\n",
       "<style scoped>\n",
       "    .dataframe tbody tr th:only-of-type {\n",
       "        vertical-align: middle;\n",
       "    }\n",
       "\n",
       "    .dataframe tbody tr th {\n",
       "        vertical-align: top;\n",
       "    }\n",
       "\n",
       "    .dataframe thead th {\n",
       "        text-align: right;\n",
       "    }\n",
       "</style>\n",
       "<table border=\"1\" class=\"dataframe\">\n",
       "  <thead>\n",
       "    <tr style=\"text-align: right;\">\n",
       "      <th></th>\n",
       "      <th>Survived</th>\n",
       "      <th>Fare</th>\n",
       "      <th>Sex</th>\n",
       "      <th>Age</th>\n",
       "      <th>Parch</th>\n",
       "      <th>SibSp</th>\n",
       "      <th>Pclass</th>\n",
       "      <th>Bias</th>\n",
       "    </tr>\n",
       "    <tr>\n",
       "      <th>PassengerId</th>\n",
       "      <th></th>\n",
       "      <th></th>\n",
       "      <th></th>\n",
       "      <th></th>\n",
       "      <th></th>\n",
       "      <th></th>\n",
       "      <th></th>\n",
       "      <th></th>\n",
       "    </tr>\n",
       "  </thead>\n",
       "  <tbody>\n",
       "    <tr>\n",
       "      <th>1</th>\n",
       "      <td>0</td>\n",
       "      <td>7.2500</td>\n",
       "      <td>1</td>\n",
       "      <td>22.0</td>\n",
       "      <td>0</td>\n",
       "      <td>1</td>\n",
       "      <td>3</td>\n",
       "      <td>1</td>\n",
       "    </tr>\n",
       "    <tr>\n",
       "      <th>2</th>\n",
       "      <td>1</td>\n",
       "      <td>71.2833</td>\n",
       "      <td>0</td>\n",
       "      <td>38.0</td>\n",
       "      <td>0</td>\n",
       "      <td>1</td>\n",
       "      <td>1</td>\n",
       "      <td>1</td>\n",
       "    </tr>\n",
       "    <tr>\n",
       "      <th>3</th>\n",
       "      <td>1</td>\n",
       "      <td>7.9250</td>\n",
       "      <td>0</td>\n",
       "      <td>26.0</td>\n",
       "      <td>0</td>\n",
       "      <td>0</td>\n",
       "      <td>3</td>\n",
       "      <td>1</td>\n",
       "    </tr>\n",
       "    <tr>\n",
       "      <th>4</th>\n",
       "      <td>1</td>\n",
       "      <td>53.1000</td>\n",
       "      <td>0</td>\n",
       "      <td>35.0</td>\n",
       "      <td>0</td>\n",
       "      <td>1</td>\n",
       "      <td>1</td>\n",
       "      <td>1</td>\n",
       "    </tr>\n",
       "    <tr>\n",
       "      <th>5</th>\n",
       "      <td>0</td>\n",
       "      <td>8.0500</td>\n",
       "      <td>1</td>\n",
       "      <td>35.0</td>\n",
       "      <td>0</td>\n",
       "      <td>0</td>\n",
       "      <td>3</td>\n",
       "      <td>1</td>\n",
       "    </tr>\n",
       "  </tbody>\n",
       "</table>\n",
       "</div>"
      ],
      "text/plain": [
       "             Survived     Fare  Sex   Age  Parch  SibSp  Pclass  Bias\n",
       "PassengerId                                                          \n",
       "1                   0   7.2500    1  22.0      0      1       3     1\n",
       "2                   1  71.2833    0  38.0      0      1       1     1\n",
       "3                   1   7.9250    0  26.0      0      0       3     1\n",
       "4                   1  53.1000    0  35.0      0      1       1     1\n",
       "5                   0   8.0500    1  35.0      0      0       3     1"
      ]
     },
     "execution_count": 8,
     "metadata": {},
     "output_type": "execute_result"
    }
   ],
   "source": [
    "dataset['Sex'] = dataset['Sex'].map( {'female': 0, 'male': 1} ).astype(int)\n",
    "dataset['Bias'] = 1\n",
    "dataset.head()"
   ]
  },
  {
   "cell_type": "markdown",
   "id": "4af7d657",
   "metadata": {},
   "source": [
    "$y(x) = kx+b = <(k||b), (x||1)> = k*x + b*1$"
   ]
  },
  {
   "cell_type": "code",
   "execution_count": 9,
   "id": "6954d89b",
   "metadata": {},
   "outputs": [
    {
     "data": {
      "text/plain": [
       "(array([[ 1., 22.,  3.,  1.],\n",
       "        [ 0., 38.,  1.,  1.],\n",
       "        [ 0., 26.,  3.,  1.],\n",
       "        [ 0., 35.,  1.,  1.],\n",
       "        [ 1., 35.,  3.,  1.]]),\n",
       " array([0, 1, 1, 1, 0]))"
      ]
     },
     "execution_count": 9,
     "metadata": {},
     "output_type": "execute_result"
    }
   ],
   "source": [
    "x = dataset[['Sex', 'Age', 'Pclass', 'Bias' ]].values\n",
    "y = dataset['Survived'].values\n",
    "x[:5], y[:5]"
   ]
  },
  {
   "cell_type": "code",
   "execution_count": 10,
   "id": "ae05fc4d",
   "metadata": {},
   "outputs": [
    {
     "data": {
      "image/png": "[encoded data removed]",
      "text/plain": [
       "<Figure size 432x288 with 1 Axes>"
      ]
     },
     "metadata": {
      "needs_background": "light"
     },
     "output_type": "display_data"
    }
   ],
   "source": [
    "plt.plot(x[y==0][:,0], x[y==0][:,2], 'o')\n",
    "plt.plot(x[y==1][:,0], x[y==1][:,2], 'x')\n",
    "# plt.axis('equal')\n",
    "\n",
    "# plt.plot(dissect_line, line(dissect_line))\n",
    "plt.show()"
   ]
  },
  {
   "cell_type": "markdown",
   "id": "9b595ab5",
   "metadata": {},
   "source": [
    "Гипотеза линейной регрессии: $z_\\theta(x) = \\theta_0x_0 + \\theta_1x_1 \\dots + \\theta_nx_n = \\theta^T(1||x)$"
   ]
  },
  {
   "cell_type": "code",
   "execution_count": 60,
   "id": "d256a99c",
   "metadata": {},
   "outputs": [],
   "source": [
    "def z(theta, x):\n",
    "    return x @ theta.T"
   ]
  },
  {
   "cell_type": "code",
   "execution_count": 61,
   "id": "50db1e3d",
   "metadata": {},
   "outputs": [
    {
     "data": {
      "text/plain": [
       "array([0.27, 0.4 , 0.3 , 0.37, 0.4 ])"
      ]
     },
     "execution_count": 61,
     "metadata": {},
     "output_type": "execute_result"
    }
   ],
   "source": [
    "init_theta =  np.array([0.01,0.01, 0.01, 0.01])\n",
    "z(init_theta, x)[:5]"
   ]
  },
  {
   "cell_type": "markdown",
   "id": "d8e37075",
   "metadata": {},
   "source": [
    "Cигмоид-функция:\n",
    "$$y(z) = \\frac{1}{1 + e^{-z}}$$"
   ]
  },
  {
   "cell_type": "code",
   "execution_count": 62,
   "id": "c238b412",
   "metadata": {},
   "outputs": [],
   "source": [
    "def sigmoid(z):\n",
    "    return 1. / (1 + np.exp(-z))"
   ]
  },
  {
   "cell_type": "code",
   "execution_count": 63,
   "id": "95011e0e",
   "metadata": {},
   "outputs": [
    {
     "data": {
      "image/png": "[encoded data removed]",
      "text/plain": [
       "<Figure size 432x288 with 1 Axes>"
      ]
     },
     "metadata": {
      "needs_background": "light"
     },
     "output_type": "display_data"
    }
   ],
   "source": [
    "x_axis = np.linspace(-10,10, 10**4)\n",
    "y_axis = sigmoid(x_axis)\n",
    "plt.plot(x_axis, y_axis)\n",
    "plt.title(\"график сигмоид функции\")\n",
    "plt.show()"
   ]
  },
  {
   "cell_type": "markdown",
   "id": "4e002bb0",
   "metadata": {},
   "source": [
    "Логистическая регрессия использует комбинацию сигмоид-функции и линейной регрессис:\n",
    "$$h_\\theta(x) = \\frac{1}{1 + e^{-z_\\theta(x)}} = \\frac{1}{1 + e^{-\\theta^Tx}}$$"
   ]
  },
  {
   "cell_type": "code",
   "execution_count": 64,
   "id": "4000869c",
   "metadata": {},
   "outputs": [],
   "source": [
    "def hypothesis(theta, x):\n",
    "    return sigmoid(z(theta, x))"
   ]
  },
  {
   "cell_type": "code",
   "execution_count": 65,
   "id": "c6286404",
   "metadata": {},
   "outputs": [
    {
     "data": {
      "text/plain": [
       "array([0.5670929 , 0.59868766, 0.57444252, 0.59145898, 0.59868766])"
      ]
     },
     "execution_count": 65,
     "metadata": {},
     "output_type": "execute_result"
    }
   ],
   "source": [
    "hypothesis(init_theta, x)[:5]"
   ]
  },
  {
   "cell_type": "markdown",
   "id": "a5aeccd9",
   "metadata": {},
   "source": [
    "Логистическая регрессия дает нам верояность $н$ равной $1$ для данного $\\theta$.\n",
    "$$h_\\theta(x) = P(y = 1 \\,|\\, x ; \\theta) = 1 - P(y = 0 \\,|\\, x ; \\theta)$$"
   ]
  },
  {
   "cell_type": "markdown",
   "id": "71b7411c",
   "metadata": {},
   "source": [
    "ЗАДАЧА: найти такое значение $\\theta$, чтобы гипотеза давала нам наиболее точное предсказание для набора данных $(x_i, y_i)$ \n",
    "$$ \\theta* = \\text{argmin}_{\\theta}\\sum{-y_i\\text{log}h_\\theta(x_i)-(1-y_i)\\text{log}(1-h_\\theta(x_i))} $$"
   ]
  },
  {
   "cell_type": "code",
   "execution_count": 66,
   "id": "9aa67a64",
   "metadata": {},
   "outputs": [],
   "source": [
    "def loss_function(theta, x, y):\n",
    "    h = hypothesis(theta, x)\n",
    "    loss = -y * np.log(h) - (1 - y) * np.log(1 - h)\n",
    "    loss_mean = np.mean(loss)\n",
    "    return loss_mean"
   ]
  },
  {
   "cell_type": "code",
   "execution_count": 67,
   "id": "b1b589a4",
   "metadata": {},
   "outputs": [
    {
     "data": {
      "text/plain": [
       "0.7493966650933906"
      ]
     },
     "execution_count": 67,
     "metadata": {},
     "output_type": "execute_result"
    }
   ],
   "source": [
    "loss_function(init_theta, x, y)"
   ]
  },
  {
   "cell_type": "code",
   "execution_count": 68,
   "id": "3fa78772",
   "metadata": {},
   "outputs": [],
   "source": [
    "def gradient_descent(init_theta, x, y, learning_rate, iterations, save_frequency):\n",
    "    loss_history = []\n",
    "    theta = init_theta\n",
    "    for i in range(iterations):\n",
    "        if i%save_frequency==0:\n",
    "            loss_history.append(loss_function(theta, x, y))\n",
    "        gradient = 1/len(x) * (hypothesis(theta, x) - y) @ x\n",
    "        theta = theta - learning_rate * gradient\n",
    "    return (loss_history, theta)"
   ]
  },
  {
   "cell_type": "code",
   "execution_count": 71,
   "id": "e67bc9cc",
   "metadata": {},
   "outputs": [],
   "source": [
    "loss_history, theta = gradient_descent(init_theta, x, y, \n",
    "                                       learning_rate=0.001, iterations=5*10**5, save_frequency=10**2)"
   ]
  },
  {
   "cell_type": "code",
   "execution_count": 72,
   "id": "49f156d0",
   "metadata": {},
   "outputs": [
    {
     "data": {
      "image/png": "[encoded data removed]",
      "text/plain": [
       "<Figure size 432x288 with 1 Axes>"
      ]
     },
     "metadata": {
      "needs_background": "light"
     },
     "output_type": "display_data"
    }
   ],
   "source": [
    "plt.plot(loss_history)\n",
    "plt.show()"
   ]
  },
  {
   "cell_type": "code",
   "execution_count": 73,
   "id": "b3e42ee7",
   "metadata": {},
   "outputs": [
    {
     "name": "stdout",
     "output_type": "stream",
     "text": [
      "Index(['Fare', 'Sex', 'Age', 'Parch', 'SibSp', 'Pclass', 'Bias'], dtype='object')\n",
      "[-2.471274   -0.03400308 -1.22342944  4.78986516]\n"
     ]
    }
   ],
   "source": [
    "print(dataset.columns[1:])\n",
    "print(theta)"
   ]
  },
  {
   "cell_type": "code",
   "execution_count": 74,
   "id": "d70f0059",
   "metadata": {},
   "outputs": [
    {
     "data": {
      "text/plain": [
       "(array([0.10911966, 0.90672766, 0.55860358, 0.91500428, 0.07297896]),\n",
       " array([0, 1, 1, 1, 0]))"
      ]
     },
     "execution_count": 74,
     "metadata": {},
     "output_type": "execute_result"
    }
   ],
   "source": [
    "hypothesis(x,theta)[:5], y[:5]"
   ]
  },
  {
   "cell_type": "code",
   "execution_count": 75,
   "id": "bad09784",
   "metadata": {},
   "outputs": [
    {
     "data": {
      "text/plain": [
       "array([0., 1., 1., 1., 0.])"
      ]
     },
     "execution_count": 75,
     "metadata": {},
     "output_type": "execute_result"
    }
   ],
   "source": [
    "y_predict = np.rint(hypothesis(x,theta))\n",
    "y_predict[:5]"
   ]
  },
  {
   "cell_type": "code",
   "execution_count": 76,
   "id": "c14df588",
   "metadata": {},
   "outputs": [
    {
     "data": {
      "text/plain": [
       "0.7899159663865546"
      ]
     },
     "execution_count": 76,
     "metadata": {},
     "output_type": "execute_result"
    }
   ],
   "source": [
    "(y==y_predict).mean()"
   ]
  },
  {
   "cell_type": "code",
   "execution_count": 78,
   "id": "d596670e",
   "metadata": {},
   "outputs": [
    {
     "data": {
      "text/plain": [
       "0.9436603573276203"
      ]
     },
     "execution_count": 78,
     "metadata": {},
     "output_type": "execute_result"
    }
   ],
   "source": [
    "passenger = {'Sex':0, 'Age':22, 'Pclass':1, 'Bias':1 }\n",
    "x_test = np.array([passenger[k] for k in passenger])\n",
    "hypothesis(x_test, theta)"
   ]
  },
  {
   "cell_type": "code",
   "execution_count": null,
   "id": "285bebef",
   "metadata": {},
   "outputs": [],
   "source": [
    "# min_values = np.min(x, axis=0)\n",
    "# max_values = np.max(x, axis=0)\n",
    "\n",
    "# line = lambda x: x * -parameters[0]/parameters[1] + bias\n",
    "# dissect_line = np.linspace(start=min_values[0], stop=max_values[0],num=10**4)\n",
    "\n",
    "plt.plot(x[y==0][:,0], x[y==0][:,2], 'o')\n",
    "plt.plot(x[y==1][:,0], x[y==1][:,2], 'x')\n",
    "plt.axis('equal')\n",
    "\n",
    "# plt.plot(dissect_line, line(dissect_line))\n",
    "plt.show()"
   ]
  },
  {
   "cell_type": "code",
   "execution_count": null,
   "id": "8513c695",
   "metadata": {},
   "outputs": [],
   "source": []
  }
 ],
 "metadata": {
  "kernelspec": {
   "display_name": "Python 3 (ipykernel)",
   "language": "python",
   "name": "python3"
  },
  "language_info": {
   "codemirror_mode": {
    "name": "ipython",
    "version": 3
   },
   "file_extension": ".py",
   "mimetype": "text/x-python",
   "name": "python",
   "nbconvert_exporter": "python",
   "pygments_lexer": "ipython3",
   "version": "3.9.7"
  }
 },
 "nbformat": 4,
 "nbformat_minor": 5
}
