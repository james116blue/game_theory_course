{
 "cells": [
  {
   "cell_type": "code",
   "execution_count": null,
   "id": "1e915db3",
   "metadata": {},
   "outputs": [],
   "source": [
    "import warnings\n",
    "warnings.filterwarnings('ignore')\n",
    "\n",
    "#importing the libraries\n",
    "import numpy as np\n",
    "import pandas as pd\n",
    "import matplotlib.pyplot as plt"
   ]
  },
  {
   "cell_type": "markdown",
   "id": "2c35fdb1",
   "metadata": {},
   "source": [
    "### Step 1: Reading and Understanding the Data\n",
    "\n",
    "Let's start with the following steps:\n",
    "\n",
    "1. Importing data using the pandas library\n",
    "2. Understanding the structure of the data"
   ]
  },
  {
   "cell_type": "code",
   "execution_count": null,
   "id": "2431c924",
   "metadata": {},
   "outputs": [],
   "source": [
    "cars = pd.read_csv('data/CarPrice_Assignment.csv')\n",
    "cars.head()"
   ]
  },
  {
   "cell_type": "code",
   "execution_count": null,
   "id": "f3536872",
   "metadata": {},
   "outputs": [],
   "source": [
    "cars.shape"
   ]
  },
  {
   "cell_type": "code",
   "execution_count": null,
   "id": "9b17a9a7",
   "metadata": {},
   "outputs": [],
   "source": [
    "cars.describe()"
   ]
  },
  {
   "cell_type": "code",
   "execution_count": null,
   "id": "cf073af7",
   "metadata": {},
   "outputs": [],
   "source": [
    "cars.info()"
   ]
  },
  {
   "cell_type": "code",
   "execution_count": null,
   "id": "306fc4ac",
   "metadata": {},
   "outputs": [],
   "source": [
    "cars.corr()['price']"
   ]
  },
  {
   "cell_type": "markdown",
   "id": "754147c5",
   "metadata": {},
   "source": [
    "### Step 2 : Data Cleaning and Preparation"
   ]
  },
  {
   "cell_type": "markdown",
   "id": "6348019c",
   "metadata": {},
   "source": [
    "### Step 3: Visualizing the datam"
   ]
  },
  {
   "cell_type": "markdown",
   "id": "6b746ba0",
   "metadata": {},
   "source": [
    "Curb weight is the weight of the vehicle, including a full tank of fuel and all standard equipment."
   ]
  },
  {
   "cell_type": "code",
   "execution_count": null,
   "id": "10a5dbf1",
   "metadata": {},
   "outputs": [],
   "source": [
    "def scatter(x,fig):\n",
    "    plt.subplot(5,2,fig)\n",
    "    plt.scatter(cars[x],cars['price'])\n",
    "    plt.title(x+' vs Price')\n",
    "    plt.ylabel('Price')\n",
    "    plt.xlabel(x)\n",
    "\n",
    "plt.figure(figsize=(10,20))\n",
    "\n",
    "\n",
    "scatter('enginesize', 4)\n",
    "\n",
    "plt.tight_layout()"
   ]
  },
  {
   "cell_type": "code",
   "execution_count": null,
   "id": "819bc1a4",
   "metadata": {},
   "outputs": [],
   "source": []
  },
  {
   "cell_type": "code",
   "execution_count": null,
   "id": "c8e07730",
   "metadata": {},
   "outputs": [],
   "source": []
  },
  {
   "cell_type": "code",
   "execution_count": null,
   "id": "d29c306a",
   "metadata": {},
   "outputs": [],
   "source": []
  },
  {
   "cell_type": "code",
   "execution_count": null,
   "id": "57a2ef27",
   "metadata": {},
   "outputs": [],
   "source": []
  },
  {
   "cell_type": "code",
   "execution_count": null,
   "id": "3764dba1",
   "metadata": {},
   "outputs": [],
   "source": []
  },
  {
   "cell_type": "code",
   "execution_count": null,
   "id": "ca62462f",
   "metadata": {},
   "outputs": [],
   "source": []
  },
  {
   "cell_type": "code",
   "execution_count": null,
   "id": "e6599108",
   "metadata": {},
   "outputs": [],
   "source": []
  }
 ],
 "metadata": {
  "kernelspec": {
   "display_name": "Python [conda env:practical_rl]",
   "language": "python",
   "name": "conda-env-practical_rl-py"
  },
  "language_info": {
   "codemirror_mode": {
    "name": "ipython",
    "version": 3
   },
   "file_extension": ".py",
   "mimetype": "text/x-python",
   "name": "python",
   "nbconvert_exporter": "python",
   "pygments_lexer": "ipython3",
   "version": "3.9.10"
  }
 },
 "nbformat": 4,
 "nbformat_minor": 5
}
