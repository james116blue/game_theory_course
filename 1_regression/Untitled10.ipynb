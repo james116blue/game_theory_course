{
 "cells": [
  {
   "cell_type": "code",
   "execution_count": 5,
   "id": "2a11e515",
   "metadata": {},
   "outputs": [],
   "source": [
    "import numpy as np"
   ]
  },
  {
   "cell_type": "code",
   "execution_count": 6,
   "id": "476a6e01",
   "metadata": {},
   "outputs": [
    {
     "data": {
      "text/plain": [
       "list"
      ]
     },
     "execution_count": 6,
     "metadata": {},
     "output_type": "execute_result"
    }
   ],
   "source": [
    "array1 = [[1,2],[3,4]]\n",
    "array2 = [[5,6],[7,8]]\n",
    "\n",
    "type(array1)"
   ]
  },
  {
   "cell_type": "code",
   "execution_count": 7,
   "id": "9b284afb",
   "metadata": {},
   "outputs": [
    {
     "data": {
      "text/plain": [
       "numpy.ndarray"
      ]
     },
     "execution_count": 7,
     "metadata": {},
     "output_type": "execute_result"
    }
   ],
   "source": [
    "array1 = np.array(array1)\n",
    "array2 = np.array(array2)\n",
    "\n",
    "type(array1)"
   ]
  },
  {
   "cell_type": "code",
   "execution_count": 8,
   "id": "d29e765f",
   "metadata": {},
   "outputs": [
    {
     "data": {
      "text/plain": [
       "array([[ 6,  8],\n",
       "       [10, 12]])"
      ]
     },
     "execution_count": 8,
     "metadata": {},
     "output_type": "execute_result"
    }
   ],
   "source": [
    "array1+array2"
   ]
  },
  {
   "cell_type": "code",
   "execution_count": 9,
   "id": "b0df876e",
   "metadata": {},
   "outputs": [
    {
     "data": {
      "text/plain": [
       "array([[ 5, 12],\n",
       "       [21, 32]])"
      ]
     },
     "execution_count": 9,
     "metadata": {},
     "output_type": "execute_result"
    }
   ],
   "source": [
    "array1*array2"
   ]
  },
  {
   "cell_type": "code",
   "execution_count": 10,
   "id": "4255e90d",
   "metadata": {},
   "outputs": [
    {
     "data": {
      "text/plain": [
       "(2, 2)"
      ]
     },
     "execution_count": 10,
     "metadata": {},
     "output_type": "execute_result"
    }
   ],
   "source": [
    "array1.shape"
   ]
  },
  {
   "cell_type": "code",
   "execution_count": 12,
   "id": "cef6bfc3",
   "metadata": {},
   "outputs": [
    {
     "data": {
      "text/plain": [
       "array([1, 2, 3, 4])"
      ]
     },
     "execution_count": 12,
     "metadata": {},
     "output_type": "execute_result"
    }
   ],
   "source": [
    "array1.reshape((4,))"
   ]
  },
  {
   "cell_type": "code",
   "execution_count": 17,
   "id": "29c45553",
   "metadata": {},
   "outputs": [],
   "source": [
    "a=np.random.randint(low=0,high=100, size=(2,3,4))"
   ]
  },
  {
   "cell_type": "code",
   "execution_count": 14,
   "id": "1c8e80b4",
   "metadata": {},
   "outputs": [
    {
     "data": {
      "text/plain": [
       "2.5"
      ]
     },
     "execution_count": 14,
     "metadata": {},
     "output_type": "execute_result"
    }
   ],
   "source": [
    "np.mean(array1)"
   ]
  },
  {
   "cell_type": "code",
   "execution_count": 18,
   "id": "eb9c5e61",
   "metadata": {},
   "outputs": [
    {
     "data": {
      "text/plain": [
       "array([[ 7.5, 55.5, 63.5, 69. ],\n",
       "       [55.5, 12. , 59. , 52.5],\n",
       "       [23. , 46. , 56.5, 69. ]])"
      ]
     },
     "execution_count": 18,
     "metadata": {},
     "output_type": "execute_result"
    }
   ],
   "source": [
    "np.mean(a,axis=0)"
   ]
  },
  {
   "cell_type": "code",
   "execution_count": null,
   "id": "041e4bb6",
   "metadata": {},
   "outputs": [],
   "source": []
  }
 ],
 "metadata": {
  "kernelspec": {
   "display_name": "Python [conda env:practical_rl]",
   "language": "python",
   "name": "conda-env-practical_rl-py"
  },
  "language_info": {
   "codemirror_mode": {
    "name": "ipython",
    "version": 3
   },
   "file_extension": ".py",
   "mimetype": "text/x-python",
   "name": "python",
   "nbconvert_exporter": "python",
   "pygments_lexer": "ipython3",
   "version": "3.9.10"
  }
 },
 "nbformat": 4,
 "nbformat_minor": 5
}
