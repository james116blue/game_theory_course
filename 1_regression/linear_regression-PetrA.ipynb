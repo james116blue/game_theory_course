{
 "cells": [
  {
   "cell_type": "code",
   "execution_count": 2,
   "id": "1e915db3",
   "metadata": {},
   "outputs": [],
   "source": [
    "import warnings\n",
    "warnings.filterwarnings('ignore')\n",
    "\n",
    "#importing the libraries\n",
    "import numpy as np\n",
    "import pandas as pd\n",
    "import matplotlib.pyplot as plt"
   ]
  },
  {
   "cell_type": "markdown",
   "id": "2c35fdb1",
   "metadata": {},
   "source": [
    "### Step 1: Reading and Understanding the Data\n",
    "\n",
    "Let's start with the following steps:\n",
    "\n",
    "1. Importing data using the pandas library\n",
    "2. Understanding the structure of the data"
   ]
  },
  {
   "cell_type": "code",
   "execution_count": 3,
   "id": "2431c924",
   "metadata": {},
   "outputs": [
    {
     "data": {
      "text/html": [
       "<div>\n",
       "<style scoped>\n",
       "    .dataframe tbody tr th:only-of-type {\n",
       "        vertical-align: middle;\n",
       "    }\n",
       "\n",
       "    .dataframe tbody tr th {\n",
       "        vertical-align: top;\n",
       "    }\n",
       "\n",
       "    .dataframe thead th {\n",
       "        text-align: right;\n",
       "    }\n",
       "</style>\n",
       "<table border=\"1\" class=\"dataframe\">\n",
       "  <thead>\n",
       "    <tr style=\"text-align: right;\">\n",
       "      <th></th>\n",
       "      <th>car_ID</th>\n",
       "      <th>symboling</th>\n",
       "      <th>CarName</th>\n",
       "      <th>fueltype</th>\n",
       "      <th>aspiration</th>\n",
       "      <th>doornumber</th>\n",
       "      <th>carbody</th>\n",
       "      <th>drivewheel</th>\n",
       "      <th>enginelocation</th>\n",
       "      <th>wheelbase</th>\n",
       "      <th>...</th>\n",
       "      <th>enginesize</th>\n",
       "      <th>fuelsystem</th>\n",
       "      <th>boreratio</th>\n",
       "      <th>stroke</th>\n",
       "      <th>compressionratio</th>\n",
       "      <th>horsepower</th>\n",
       "      <th>peakrpm</th>\n",
       "      <th>citympg</th>\n",
       "      <th>highwaympg</th>\n",
       "      <th>price</th>\n",
       "    </tr>\n",
       "  </thead>\n",
       "  <tbody>\n",
       "    <tr>\n",
       "      <th>0</th>\n",
       "      <td>1</td>\n",
       "      <td>3</td>\n",
       "      <td>alfa-romero giulia</td>\n",
       "      <td>gas</td>\n",
       "      <td>std</td>\n",
       "      <td>two</td>\n",
       "      <td>convertible</td>\n",
       "      <td>rwd</td>\n",
       "      <td>front</td>\n",
       "      <td>88.6</td>\n",
       "      <td>...</td>\n",
       "      <td>130</td>\n",
       "      <td>mpfi</td>\n",
       "      <td>3.47</td>\n",
       "      <td>2.68</td>\n",
       "      <td>9.0</td>\n",
       "      <td>111</td>\n",
       "      <td>5000</td>\n",
       "      <td>21</td>\n",
       "      <td>27</td>\n",
       "      <td>13495.0</td>\n",
       "    </tr>\n",
       "    <tr>\n",
       "      <th>1</th>\n",
       "      <td>2</td>\n",
       "      <td>3</td>\n",
       "      <td>alfa-romero stelvio</td>\n",
       "      <td>gas</td>\n",
       "      <td>std</td>\n",
       "      <td>two</td>\n",
       "      <td>convertible</td>\n",
       "      <td>rwd</td>\n",
       "      <td>front</td>\n",
       "      <td>88.6</td>\n",
       "      <td>...</td>\n",
       "      <td>130</td>\n",
       "      <td>mpfi</td>\n",
       "      <td>3.47</td>\n",
       "      <td>2.68</td>\n",
       "      <td>9.0</td>\n",
       "      <td>111</td>\n",
       "      <td>5000</td>\n",
       "      <td>21</td>\n",
       "      <td>27</td>\n",
       "      <td>16500.0</td>\n",
       "    </tr>\n",
       "    <tr>\n",
       "      <th>2</th>\n",
       "      <td>3</td>\n",
       "      <td>1</td>\n",
       "      <td>alfa-romero Quadrifoglio</td>\n",
       "      <td>gas</td>\n",
       "      <td>std</td>\n",
       "      <td>two</td>\n",
       "      <td>hatchback</td>\n",
       "      <td>rwd</td>\n",
       "      <td>front</td>\n",
       "      <td>94.5</td>\n",
       "      <td>...</td>\n",
       "      <td>152</td>\n",
       "      <td>mpfi</td>\n",
       "      <td>2.68</td>\n",
       "      <td>3.47</td>\n",
       "      <td>9.0</td>\n",
       "      <td>154</td>\n",
       "      <td>5000</td>\n",
       "      <td>19</td>\n",
       "      <td>26</td>\n",
       "      <td>16500.0</td>\n",
       "    </tr>\n",
       "    <tr>\n",
       "      <th>3</th>\n",
       "      <td>4</td>\n",
       "      <td>2</td>\n",
       "      <td>audi 100 ls</td>\n",
       "      <td>gas</td>\n",
       "      <td>std</td>\n",
       "      <td>four</td>\n",
       "      <td>sedan</td>\n",
       "      <td>fwd</td>\n",
       "      <td>front</td>\n",
       "      <td>99.8</td>\n",
       "      <td>...</td>\n",
       "      <td>109</td>\n",
       "      <td>mpfi</td>\n",
       "      <td>3.19</td>\n",
       "      <td>3.40</td>\n",
       "      <td>10.0</td>\n",
       "      <td>102</td>\n",
       "      <td>5500</td>\n",
       "      <td>24</td>\n",
       "      <td>30</td>\n",
       "      <td>13950.0</td>\n",
       "    </tr>\n",
       "    <tr>\n",
       "      <th>4</th>\n",
       "      <td>5</td>\n",
       "      <td>2</td>\n",
       "      <td>audi 100ls</td>\n",
       "      <td>gas</td>\n",
       "      <td>std</td>\n",
       "      <td>four</td>\n",
       "      <td>sedan</td>\n",
       "      <td>4wd</td>\n",
       "      <td>front</td>\n",
       "      <td>99.4</td>\n",
       "      <td>...</td>\n",
       "      <td>136</td>\n",
       "      <td>mpfi</td>\n",
       "      <td>3.19</td>\n",
       "      <td>3.40</td>\n",
       "      <td>8.0</td>\n",
       "      <td>115</td>\n",
       "      <td>5500</td>\n",
       "      <td>18</td>\n",
       "      <td>22</td>\n",
       "      <td>17450.0</td>\n",
       "    </tr>\n",
       "  </tbody>\n",
       "</table>\n",
       "<p>5 rows × 26 columns</p>\n",
       "</div>"
      ],
      "text/plain": [
       "   car_ID  symboling                   CarName fueltype aspiration doornumber  \\\n",
       "0       1          3        alfa-romero giulia      gas        std        two   \n",
       "1       2          3       alfa-romero stelvio      gas        std        two   \n",
       "2       3          1  alfa-romero Quadrifoglio      gas        std        two   \n",
       "3       4          2               audi 100 ls      gas        std       four   \n",
       "4       5          2                audi 100ls      gas        std       four   \n",
       "\n",
       "       carbody drivewheel enginelocation  wheelbase  ...  enginesize  \\\n",
       "0  convertible        rwd          front       88.6  ...         130   \n",
       "1  convertible        rwd          front       88.6  ...         130   \n",
       "2    hatchback        rwd          front       94.5  ...         152   \n",
       "3        sedan        fwd          front       99.8  ...         109   \n",
       "4        sedan        4wd          front       99.4  ...         136   \n",
       "\n",
       "   fuelsystem  boreratio  stroke compressionratio horsepower  peakrpm citympg  \\\n",
       "0        mpfi       3.47    2.68              9.0        111     5000      21   \n",
       "1        mpfi       3.47    2.68              9.0        111     5000      21   \n",
       "2        mpfi       2.68    3.47              9.0        154     5000      19   \n",
       "3        mpfi       3.19    3.40             10.0        102     5500      24   \n",
       "4        mpfi       3.19    3.40              8.0        115     5500      18   \n",
       "\n",
       "   highwaympg    price  \n",
       "0          27  13495.0  \n",
       "1          27  16500.0  \n",
       "2          26  16500.0  \n",
       "3          30  13950.0  \n",
       "4          22  17450.0  \n",
       "\n",
       "[5 rows x 26 columns]"
      ]
     },
     "execution_count": 3,
     "metadata": {},
     "output_type": "execute_result"
    }
   ],
   "source": [
    "cars = pd.read_csv('data/CarPrice_Assignment.csv')\n",
    "cars.head()"
   ]
  },
  {
   "cell_type": "code",
   "execution_count": 4,
   "id": "f3536872",
   "metadata": {},
   "outputs": [
    {
     "data": {
      "text/plain": [
       "(205, 26)"
      ]
     },
     "execution_count": 4,
     "metadata": {},
     "output_type": "execute_result"
    }
   ],
   "source": [
    "cars.shape"
   ]
  },
  {
   "cell_type": "code",
   "execution_count": 5,
   "id": "9b17a9a7",
   "metadata": {},
   "outputs": [
    {
     "data": {
      "text/html": [
       "<div>\n",
       "<style scoped>\n",
       "    .dataframe tbody tr th:only-of-type {\n",
       "        vertical-align: middle;\n",
       "    }\n",
       "\n",
       "    .dataframe tbody tr th {\n",
       "        vertical-align: top;\n",
       "    }\n",
       "\n",
       "    .dataframe thead th {\n",
       "        text-align: right;\n",
       "    }\n",
       "</style>\n",
       "<table border=\"1\" class=\"dataframe\">\n",
       "  <thead>\n",
       "    <tr style=\"text-align: right;\">\n",
       "      <th></th>\n",
       "      <th>car_ID</th>\n",
       "      <th>symboling</th>\n",
       "      <th>wheelbase</th>\n",
       "      <th>carlength</th>\n",
       "      <th>carwidth</th>\n",
       "      <th>carheight</th>\n",
       "      <th>curbweight</th>\n",
       "      <th>enginesize</th>\n",
       "      <th>boreratio</th>\n",
       "      <th>stroke</th>\n",
       "      <th>compressionratio</th>\n",
       "      <th>horsepower</th>\n",
       "      <th>peakrpm</th>\n",
       "      <th>citympg</th>\n",
       "      <th>highwaympg</th>\n",
       "      <th>price</th>\n",
       "    </tr>\n",
       "  </thead>\n",
       "  <tbody>\n",
       "    <tr>\n",
       "      <th>count</th>\n",
       "      <td>205.000000</td>\n",
       "      <td>205.000000</td>\n",
       "      <td>205.000000</td>\n",
       "      <td>205.000000</td>\n",
       "      <td>205.000000</td>\n",
       "      <td>205.000000</td>\n",
       "      <td>205.000000</td>\n",
       "      <td>205.000000</td>\n",
       "      <td>205.000000</td>\n",
       "      <td>205.000000</td>\n",
       "      <td>205.000000</td>\n",
       "      <td>205.000000</td>\n",
       "      <td>205.000000</td>\n",
       "      <td>205.000000</td>\n",
       "      <td>205.000000</td>\n",
       "      <td>205.000000</td>\n",
       "    </tr>\n",
       "    <tr>\n",
       "      <th>mean</th>\n",
       "      <td>103.000000</td>\n",
       "      <td>0.834146</td>\n",
       "      <td>98.756585</td>\n",
       "      <td>174.049268</td>\n",
       "      <td>65.907805</td>\n",
       "      <td>53.724878</td>\n",
       "      <td>2555.565854</td>\n",
       "      <td>126.907317</td>\n",
       "      <td>3.329756</td>\n",
       "      <td>3.255415</td>\n",
       "      <td>10.142537</td>\n",
       "      <td>104.117073</td>\n",
       "      <td>5125.121951</td>\n",
       "      <td>25.219512</td>\n",
       "      <td>30.751220</td>\n",
       "      <td>13276.710571</td>\n",
       "    </tr>\n",
       "    <tr>\n",
       "      <th>std</th>\n",
       "      <td>59.322565</td>\n",
       "      <td>1.245307</td>\n",
       "      <td>6.021776</td>\n",
       "      <td>12.337289</td>\n",
       "      <td>2.145204</td>\n",
       "      <td>2.443522</td>\n",
       "      <td>520.680204</td>\n",
       "      <td>41.642693</td>\n",
       "      <td>0.270844</td>\n",
       "      <td>0.313597</td>\n",
       "      <td>3.972040</td>\n",
       "      <td>39.544167</td>\n",
       "      <td>476.985643</td>\n",
       "      <td>6.542142</td>\n",
       "      <td>6.886443</td>\n",
       "      <td>7988.852332</td>\n",
       "    </tr>\n",
       "    <tr>\n",
       "      <th>min</th>\n",
       "      <td>1.000000</td>\n",
       "      <td>-2.000000</td>\n",
       "      <td>86.600000</td>\n",
       "      <td>141.100000</td>\n",
       "      <td>60.300000</td>\n",
       "      <td>47.800000</td>\n",
       "      <td>1488.000000</td>\n",
       "      <td>61.000000</td>\n",
       "      <td>2.540000</td>\n",
       "      <td>2.070000</td>\n",
       "      <td>7.000000</td>\n",
       "      <td>48.000000</td>\n",
       "      <td>4150.000000</td>\n",
       "      <td>13.000000</td>\n",
       "      <td>16.000000</td>\n",
       "      <td>5118.000000</td>\n",
       "    </tr>\n",
       "    <tr>\n",
       "      <th>25%</th>\n",
       "      <td>52.000000</td>\n",
       "      <td>0.000000</td>\n",
       "      <td>94.500000</td>\n",
       "      <td>166.300000</td>\n",
       "      <td>64.100000</td>\n",
       "      <td>52.000000</td>\n",
       "      <td>2145.000000</td>\n",
       "      <td>97.000000</td>\n",
       "      <td>3.150000</td>\n",
       "      <td>3.110000</td>\n",
       "      <td>8.600000</td>\n",
       "      <td>70.000000</td>\n",
       "      <td>4800.000000</td>\n",
       "      <td>19.000000</td>\n",
       "      <td>25.000000</td>\n",
       "      <td>7788.000000</td>\n",
       "    </tr>\n",
       "    <tr>\n",
       "      <th>50%</th>\n",
       "      <td>103.000000</td>\n",
       "      <td>1.000000</td>\n",
       "      <td>97.000000</td>\n",
       "      <td>173.200000</td>\n",
       "      <td>65.500000</td>\n",
       "      <td>54.100000</td>\n",
       "      <td>2414.000000</td>\n",
       "      <td>120.000000</td>\n",
       "      <td>3.310000</td>\n",
       "      <td>3.290000</td>\n",
       "      <td>9.000000</td>\n",
       "      <td>95.000000</td>\n",
       "      <td>5200.000000</td>\n",
       "      <td>24.000000</td>\n",
       "      <td>30.000000</td>\n",
       "      <td>10295.000000</td>\n",
       "    </tr>\n",
       "    <tr>\n",
       "      <th>75%</th>\n",
       "      <td>154.000000</td>\n",
       "      <td>2.000000</td>\n",
       "      <td>102.400000</td>\n",
       "      <td>183.100000</td>\n",
       "      <td>66.900000</td>\n",
       "      <td>55.500000</td>\n",
       "      <td>2935.000000</td>\n",
       "      <td>141.000000</td>\n",
       "      <td>3.580000</td>\n",
       "      <td>3.410000</td>\n",
       "      <td>9.400000</td>\n",
       "      <td>116.000000</td>\n",
       "      <td>5500.000000</td>\n",
       "      <td>30.000000</td>\n",
       "      <td>34.000000</td>\n",
       "      <td>16503.000000</td>\n",
       "    </tr>\n",
       "    <tr>\n",
       "      <th>max</th>\n",
       "      <td>205.000000</td>\n",
       "      <td>3.000000</td>\n",
       "      <td>120.900000</td>\n",
       "      <td>208.100000</td>\n",
       "      <td>72.300000</td>\n",
       "      <td>59.800000</td>\n",
       "      <td>4066.000000</td>\n",
       "      <td>326.000000</td>\n",
       "      <td>3.940000</td>\n",
       "      <td>4.170000</td>\n",
       "      <td>23.000000</td>\n",
       "      <td>288.000000</td>\n",
       "      <td>6600.000000</td>\n",
       "      <td>49.000000</td>\n",
       "      <td>54.000000</td>\n",
       "      <td>45400.000000</td>\n",
       "    </tr>\n",
       "  </tbody>\n",
       "</table>\n",
       "</div>"
      ],
      "text/plain": [
       "           car_ID   symboling   wheelbase   carlength    carwidth   carheight  \\\n",
       "count  205.000000  205.000000  205.000000  205.000000  205.000000  205.000000   \n",
       "mean   103.000000    0.834146   98.756585  174.049268   65.907805   53.724878   \n",
       "std     59.322565    1.245307    6.021776   12.337289    2.145204    2.443522   \n",
       "min      1.000000   -2.000000   86.600000  141.100000   60.300000   47.800000   \n",
       "25%     52.000000    0.000000   94.500000  166.300000   64.100000   52.000000   \n",
       "50%    103.000000    1.000000   97.000000  173.200000   65.500000   54.100000   \n",
       "75%    154.000000    2.000000  102.400000  183.100000   66.900000   55.500000   \n",
       "max    205.000000    3.000000  120.900000  208.100000   72.300000   59.800000   \n",
       "\n",
       "        curbweight  enginesize   boreratio      stroke  compressionratio  \\\n",
       "count   205.000000  205.000000  205.000000  205.000000        205.000000   \n",
       "mean   2555.565854  126.907317    3.329756    3.255415         10.142537   \n",
       "std     520.680204   41.642693    0.270844    0.313597          3.972040   \n",
       "min    1488.000000   61.000000    2.540000    2.070000          7.000000   \n",
       "25%    2145.000000   97.000000    3.150000    3.110000          8.600000   \n",
       "50%    2414.000000  120.000000    3.310000    3.290000          9.000000   \n",
       "75%    2935.000000  141.000000    3.580000    3.410000          9.400000   \n",
       "max    4066.000000  326.000000    3.940000    4.170000         23.000000   \n",
       "\n",
       "       horsepower      peakrpm     citympg  highwaympg         price  \n",
       "count  205.000000   205.000000  205.000000  205.000000    205.000000  \n",
       "mean   104.117073  5125.121951   25.219512   30.751220  13276.710571  \n",
       "std     39.544167   476.985643    6.542142    6.886443   7988.852332  \n",
       "min     48.000000  4150.000000   13.000000   16.000000   5118.000000  \n",
       "25%     70.000000  4800.000000   19.000000   25.000000   7788.000000  \n",
       "50%     95.000000  5200.000000   24.000000   30.000000  10295.000000  \n",
       "75%    116.000000  5500.000000   30.000000   34.000000  16503.000000  \n",
       "max    288.000000  6600.000000   49.000000   54.000000  45400.000000  "
      ]
     },
     "execution_count": 5,
     "metadata": {},
     "output_type": "execute_result"
    }
   ],
   "source": [
    "cars.describe()"
   ]
  },
  {
   "cell_type": "code",
   "execution_count": 6,
   "id": "cf073af7",
   "metadata": {},
   "outputs": [
    {
     "name": "stdout",
     "output_type": "stream",
     "text": [
      "<class 'pandas.core.frame.DataFrame'>\n",
      "RangeIndex: 205 entries, 0 to 204\n",
      "Data columns (total 26 columns):\n",
      " #   Column            Non-Null Count  Dtype  \n",
      "---  ------            --------------  -----  \n",
      " 0   car_ID            205 non-null    int64  \n",
      " 1   symboling         205 non-null    int64  \n",
      " 2   CarName           205 non-null    object \n",
      " 3   fueltype          205 non-null    object \n",
      " 4   aspiration        205 non-null    object \n",
      " 5   doornumber        205 non-null    object \n",
      " 6   carbody           205 non-null    object \n",
      " 7   drivewheel        205 non-null    object \n",
      " 8   enginelocation    205 non-null    object \n",
      " 9   wheelbase         205 non-null    float64\n",
      " 10  carlength         205 non-null    float64\n",
      " 11  carwidth          205 non-null    float64\n",
      " 12  carheight         205 non-null    float64\n",
      " 13  curbweight        205 non-null    int64  \n",
      " 14  enginetype        205 non-null    object \n",
      " 15  cylindernumber    205 non-null    object \n",
      " 16  enginesize        205 non-null    int64  \n",
      " 17  fuelsystem        205 non-null    object \n",
      " 18  boreratio         205 non-null    float64\n",
      " 19  stroke            205 non-null    float64\n",
      " 20  compressionratio  205 non-null    float64\n",
      " 21  horsepower        205 non-null    int64  \n",
      " 22  peakrpm           205 non-null    int64  \n",
      " 23  citympg           205 non-null    int64  \n",
      " 24  highwaympg        205 non-null    int64  \n",
      " 25  price             205 non-null    float64\n",
      "dtypes: float64(8), int64(8), object(10)\n",
      "memory usage: 41.8+ KB\n"
     ]
    }
   ],
   "source": [
    "cars.info()"
   ]
  },
  {
   "cell_type": "code",
   "execution_count": 7,
   "id": "306fc4ac",
   "metadata": {},
   "outputs": [
    {
     "data": {
      "text/plain": [
       "car_ID             -0.109093\n",
       "symboling          -0.079978\n",
       "wheelbase           0.577816\n",
       "carlength           0.682920\n",
       "carwidth            0.759325\n",
       "carheight           0.119336\n",
       "curbweight          0.835305\n",
       "enginesize          0.874145\n",
       "boreratio           0.553173\n",
       "stroke              0.079443\n",
       "compressionratio    0.067984\n",
       "horsepower          0.808139\n",
       "peakrpm            -0.085267\n",
       "citympg            -0.685751\n",
       "highwaympg         -0.697599\n",
       "price               1.000000\n",
       "Name: price, dtype: float64"
      ]
     },
     "execution_count": 7,
     "metadata": {},
     "output_type": "execute_result"
    }
   ],
   "source": [
    "cars.corr()['price']"
   ]
  },
  {
   "cell_type": "markdown",
   "id": "754147c5",
   "metadata": {},
   "source": [
    "### Step 2 : Data Cleaning and Preparation"
   ]
  },
  {
   "cell_type": "markdown",
   "id": "6348019c",
   "metadata": {},
   "source": [
    "### Step 3: Visualizing the datam"
   ]
  },
  {
   "cell_type": "markdown",
   "id": "6b746ba0",
   "metadata": {},
   "source": [
    "Curb weight is the weight of the vehicle, including a full tank of fuel and all standard equipment."
   ]
  },
  {
   "cell_type": "code",
   "execution_count": 8,
   "id": "10a5dbf1",
   "metadata": {},
   "outputs": [
    {
     "data": {
      "image/png": "[encoded data removed]",
      "text/plain": [
       "<Figure size 720x1440 with 1 Axes>"
      ]
     },
     "metadata": {
      "needs_background": "light"
     },
     "output_type": "display_data"
    }
   ],
   "source": [
    "def scatter(x,fig):\n",
    "    plt.subplot(5,2,fig)\n",
    "    plt.scatter(cars[x],cars['price'])\n",
    "    plt.title(x+' vs Price')\n",
    "    plt.ylabel('Price')\n",
    "    plt.xlabel(x)\n",
    "\n",
    "plt.figure(figsize=(10,20))\n",
    "\n",
    "\n",
    "scatter('enginesize', 4)\n",
    "\n",
    "plt.tight_layout()"
   ]
  },
  {
   "cell_type": "code",
   "execution_count": 9,
   "id": "819bc1a4",
   "metadata": {},
   "outputs": [
    {
     "data": {
      "text/plain": [
       "0      130\n",
       "1      130\n",
       "2      152\n",
       "3      109\n",
       "4      136\n",
       "      ... \n",
       "200    141\n",
       "201    141\n",
       "202    173\n",
       "203    145\n",
       "204    141\n",
       "Name: enginesize, Length: 205, dtype: int64"
      ]
     },
     "execution_count": 9,
     "metadata": {},
     "output_type": "execute_result"
    }
   ],
   "source": [
    "X = cars['enginesize']\n",
    "X"
   ]
  },
  {
   "cell_type": "code",
   "execution_count": 10,
   "id": "c8e07730",
   "metadata": {},
   "outputs": [
    {
     "data": {
      "text/plain": [
       "(205, 1)"
      ]
     },
     "execution_count": 10,
     "metadata": {},
     "output_type": "execute_result"
    }
   ],
   "source": [
    "X = cars[['enginesize']]\n",
    "X.shape"
   ]
  },
  {
   "cell_type": "code",
   "execution_count": 11,
   "id": "d29c306a",
   "metadata": {},
   "outputs": [
    {
     "data": {
      "text/plain": [
       "(205,)"
      ]
     },
     "execution_count": 11,
     "metadata": {},
     "output_type": "execute_result"
    }
   ],
   "source": [
    "y = cars['price']\n",
    "y.shape"
   ]
  },
  {
   "cell_type": "code",
   "execution_count": 14,
   "id": "57a2ef27",
   "metadata": {},
   "outputs": [],
   "source": [
    "def h(x, w):\n",
    "    return np.dot(x, w)"
   ]
  },
  {
   "cell_type": "code",
   "execution_count": 17,
   "id": "3764dba1",
   "metadata": {},
   "outputs": [
    {
     "data": {
      "text/plain": [
       "array([[  1., 130.],\n",
       "       [  1., 130.],\n",
       "       [  1., 152.],\n",
       "       [  1., 109.],\n",
       "       [  1., 136.],\n",
       "       [  1., 136.],\n",
       "       [  1., 136.],\n",
       "       [  1., 136.],\n",
       "       [  1., 131.],\n",
       "       [  1., 131.],\n",
       "       [  1., 108.],\n",
       "       [  1., 108.],\n",
       "       [  1., 164.],\n",
       "       [  1., 164.],\n",
       "       [  1., 164.],\n",
       "       [  1., 209.],\n",
       "       [  1., 209.],\n",
       "       [  1., 209.],\n",
       "       [  1.,  61.],\n",
       "       [  1.,  90.],\n",
       "       [  1.,  90.],\n",
       "       [  1.,  90.],\n",
       "       [  1.,  90.],\n",
       "       [  1.,  98.],\n",
       "       [  1.,  90.],\n",
       "       [  1.,  90.],\n",
       "       [  1.,  90.],\n",
       "       [  1.,  98.],\n",
       "       [  1., 122.],\n",
       "       [  1., 156.],\n",
       "       [  1.,  92.],\n",
       "       [  1.,  92.],\n",
       "       [  1.,  79.],\n",
       "       [  1.,  92.],\n",
       "       [  1.,  92.],\n",
       "       [  1.,  92.],\n",
       "       [  1.,  92.],\n",
       "       [  1., 110.],\n",
       "       [  1., 110.],\n",
       "       [  1., 110.],\n",
       "       [  1., 110.],\n",
       "       [  1., 110.],\n",
       "       [  1., 110.],\n",
       "       [  1., 111.],\n",
       "       [  1.,  90.],\n",
       "       [  1.,  90.],\n",
       "       [  1., 119.],\n",
       "       [  1., 258.],\n",
       "       [  1., 258.],\n",
       "       [  1., 326.],\n",
       "       [  1.,  91.],\n",
       "       [  1.,  91.],\n",
       "       [  1.,  91.],\n",
       "       [  1.,  91.],\n",
       "       [  1.,  91.],\n",
       "       [  1.,  70.],\n",
       "       [  1.,  70.],\n",
       "       [  1.,  70.],\n",
       "       [  1.,  80.],\n",
       "       [  1., 122.],\n",
       "       [  1., 122.],\n",
       "       [  1., 122.],\n",
       "       [  1., 122.],\n",
       "       [  1., 122.],\n",
       "       [  1., 122.],\n",
       "       [  1., 140.],\n",
       "       [  1., 134.],\n",
       "       [  1., 183.],\n",
       "       [  1., 183.],\n",
       "       [  1., 183.],\n",
       "       [  1., 183.],\n",
       "       [  1., 234.],\n",
       "       [  1., 234.],\n",
       "       [  1., 308.],\n",
       "       [  1., 304.],\n",
       "       [  1., 140.],\n",
       "       [  1.,  92.],\n",
       "       [  1.,  92.],\n",
       "       [  1.,  92.],\n",
       "       [  1.,  98.],\n",
       "       [  1., 110.],\n",
       "       [  1., 122.],\n",
       "       [  1., 156.],\n",
       "       [  1., 156.],\n",
       "       [  1., 156.],\n",
       "       [  1., 122.],\n",
       "       [  1., 122.],\n",
       "       [  1., 110.],\n",
       "       [  1., 110.],\n",
       "       [  1.,  97.],\n",
       "       [  1., 103.],\n",
       "       [  1.,  97.],\n",
       "       [  1.,  97.],\n",
       "       [  1.,  97.],\n",
       "       [  1.,  97.],\n",
       "       [  1.,  97.],\n",
       "       [  1.,  97.],\n",
       "       [  1.,  97.],\n",
       "       [  1.,  97.],\n",
       "       [  1., 120.],\n",
       "       [  1., 120.],\n",
       "       [  1., 181.],\n",
       "       [  1., 181.],\n",
       "       [  1., 181.],\n",
       "       [  1., 181.],\n",
       "       [  1., 181.],\n",
       "       [  1., 181.],\n",
       "       [  1., 120.],\n",
       "       [  1., 152.],\n",
       "       [  1., 120.],\n",
       "       [  1., 152.],\n",
       "       [  1., 120.],\n",
       "       [  1., 152.],\n",
       "       [  1., 120.],\n",
       "       [  1., 152.],\n",
       "       [  1., 120.],\n",
       "       [  1., 152.],\n",
       "       [  1., 134.],\n",
       "       [  1.,  90.],\n",
       "       [  1.,  98.],\n",
       "       [  1.,  90.],\n",
       "       [  1.,  90.],\n",
       "       [  1.,  98.],\n",
       "       [  1., 122.],\n",
       "       [  1., 156.],\n",
       "       [  1., 151.],\n",
       "       [  1., 194.],\n",
       "       [  1., 194.],\n",
       "       [  1., 194.],\n",
       "       [  1., 203.],\n",
       "       [  1., 132.],\n",
       "       [  1., 132.],\n",
       "       [  1., 121.],\n",
       "       [  1., 121.],\n",
       "       [  1., 121.],\n",
       "       [  1., 121.],\n",
       "       [  1., 121.],\n",
       "       [  1., 121.],\n",
       "       [  1.,  97.],\n",
       "       [  1., 108.],\n",
       "       [  1., 108.],\n",
       "       [  1., 108.],\n",
       "       [  1., 108.],\n",
       "       [  1., 108.],\n",
       "       [  1., 108.],\n",
       "       [  1., 108.],\n",
       "       [  1., 108.],\n",
       "       [  1., 108.],\n",
       "       [  1., 108.],\n",
       "       [  1., 108.],\n",
       "       [  1.,  92.],\n",
       "       [  1.,  92.],\n",
       "       [  1.,  92.],\n",
       "       [  1.,  92.],\n",
       "       [  1.,  92.],\n",
       "       [  1.,  92.],\n",
       "       [  1.,  98.],\n",
       "       [  1.,  98.],\n",
       "       [  1., 110.],\n",
       "       [  1., 110.],\n",
       "       [  1.,  98.],\n",
       "       [  1.,  98.],\n",
       "       [  1.,  98.],\n",
       "       [  1.,  98.],\n",
       "       [  1.,  98.],\n",
       "       [  1.,  98.],\n",
       "       [  1.,  98.],\n",
       "       [  1., 146.],\n",
       "       [  1., 146.],\n",
       "       [  1., 146.],\n",
       "       [  1., 146.],\n",
       "       [  1., 146.],\n",
       "       [  1., 146.],\n",
       "       [  1., 122.],\n",
       "       [  1., 110.],\n",
       "       [  1., 122.],\n",
       "       [  1., 122.],\n",
       "       [  1., 122.],\n",
       "       [  1., 171.],\n",
       "       [  1., 171.],\n",
       "       [  1., 171.],\n",
       "       [  1., 161.],\n",
       "       [  1.,  97.],\n",
       "       [  1., 109.],\n",
       "       [  1.,  97.],\n",
       "       [  1., 109.],\n",
       "       [  1., 109.],\n",
       "       [  1.,  97.],\n",
       "       [  1., 109.],\n",
       "       [  1., 109.],\n",
       "       [  1., 109.],\n",
       "       [  1., 136.],\n",
       "       [  1.,  97.],\n",
       "       [  1., 109.],\n",
       "       [  1., 141.],\n",
       "       [  1., 141.],\n",
       "       [  1., 141.],\n",
       "       [  1., 141.],\n",
       "       [  1., 130.],\n",
       "       [  1., 130.],\n",
       "       [  1., 141.],\n",
       "       [  1., 141.],\n",
       "       [  1., 173.],\n",
       "       [  1., 145.],\n",
       "       [  1., 141.]])"
      ]
     },
     "execution_count": 17,
     "metadata": {},
     "output_type": "execute_result"
    }
   ],
   "source": [
    "x_0 = np.ones((205,1))\n",
    "X = np.hstack((x_0, X))\n",
    "X"
   ]
  },
  {
   "cell_type": "code",
   "execution_count": 18,
   "id": "ca62462f",
   "metadata": {},
   "outputs": [
    {
     "data": {
      "text/plain": [
       "1065.0"
      ]
     },
     "execution_count": 18,
     "metadata": {},
     "output_type": "execute_result"
    }
   ],
   "source": [
    "h(X[0], w=[1000, 0.5])"
   ]
  },
  {
   "cell_type": "code",
   "execution_count": 19,
   "id": "e6599108",
   "metadata": {},
   "outputs": [],
   "source": [
    "w = [0.001, -0.001]"
   ]
  },
  {
   "cell_type": "code",
   "execution_count": 20,
   "id": "97d6a585",
   "metadata": {},
   "outputs": [],
   "source": [
    "alpha = 0.001"
   ]
  },
  {
   "cell_type": "code",
   "execution_count": 21,
   "id": "1e4de111",
   "metadata": {},
   "outputs": [],
   "source": [
    "def grad(X, y, w):\n",
    "    X @ w"
   ]
  },
  {
   "cell_type": "code",
   "execution_count": 22,
   "id": "bda9da7a",
   "metadata": {},
   "outputs": [
    {
     "data": {
      "text/plain": [
       "array([-0.129, -0.129, -0.151, -0.108, -0.135, -0.135, -0.135, -0.135,\n",
       "       -0.13 , -0.13 , -0.107, -0.107, -0.163, -0.163, -0.163, -0.208,\n",
       "       -0.208, -0.208, -0.06 , -0.089, -0.089, -0.089, -0.089, -0.097,\n",
       "       -0.089, -0.089, -0.089, -0.097, -0.121, -0.155, -0.091, -0.091,\n",
       "       -0.078, -0.091, -0.091, -0.091, -0.091, -0.109, -0.109, -0.109,\n",
       "       -0.109, -0.109, -0.109, -0.11 , -0.089, -0.089, -0.118, -0.257,\n",
       "       -0.257, -0.325, -0.09 , -0.09 , -0.09 , -0.09 , -0.09 , -0.069,\n",
       "       -0.069, -0.069, -0.079, -0.121, -0.121, -0.121, -0.121, -0.121,\n",
       "       -0.121, -0.139, -0.133, -0.182, -0.182, -0.182, -0.182, -0.233,\n",
       "       -0.233, -0.307, -0.303, -0.139, -0.091, -0.091, -0.091, -0.097,\n",
       "       -0.109, -0.121, -0.155, -0.155, -0.155, -0.121, -0.121, -0.109,\n",
       "       -0.109, -0.096, -0.102, -0.096, -0.096, -0.096, -0.096, -0.096,\n",
       "       -0.096, -0.096, -0.096, -0.119, -0.119, -0.18 , -0.18 , -0.18 ,\n",
       "       -0.18 , -0.18 , -0.18 , -0.119, -0.151, -0.119, -0.151, -0.119,\n",
       "       -0.151, -0.119, -0.151, -0.119, -0.151, -0.133, -0.089, -0.097,\n",
       "       -0.089, -0.089, -0.097, -0.121, -0.155, -0.15 , -0.193, -0.193,\n",
       "       -0.193, -0.202, -0.131, -0.131, -0.12 , -0.12 , -0.12 , -0.12 ,\n",
       "       -0.12 , -0.12 , -0.096, -0.107, -0.107, -0.107, -0.107, -0.107,\n",
       "       -0.107, -0.107, -0.107, -0.107, -0.107, -0.107, -0.091, -0.091,\n",
       "       -0.091, -0.091, -0.091, -0.091, -0.097, -0.097, -0.109, -0.109,\n",
       "       -0.097, -0.097, -0.097, -0.097, -0.097, -0.097, -0.097, -0.145,\n",
       "       -0.145, -0.145, -0.145, -0.145, -0.145, -0.121, -0.109, -0.121,\n",
       "       -0.121, -0.121, -0.17 , -0.17 , -0.17 , -0.16 , -0.096, -0.108,\n",
       "       -0.096, -0.108, -0.108, -0.096, -0.108, -0.108, -0.108, -0.135,\n",
       "       -0.096, -0.108, -0.14 , -0.14 , -0.14 , -0.14 , -0.129, -0.129,\n",
       "       -0.14 , -0.14 , -0.172, -0.144, -0.14 ])"
      ]
     },
     "execution_count": 22,
     "metadata": {},
     "output_type": "execute_result"
    }
   ],
   "source": [
    "X @ w"
   ]
  },
  {
   "cell_type": "code",
   "execution_count": 32,
   "id": "c5ae22fc",
   "metadata": {},
   "outputs": [],
   "source": [
    "def grad(X, y, w):\n",
    "    grad = []\n",
    "    for i in range(len(X)):\n",
    "        x_i, y_i = X[i], y[i]\n",
    "        grad.append((h(x_i,w) - y_i) * x_i)\n",
    "    grad = np.array(grad)\n",
    "    \n",
    "    return np.mean(grad, axis=0)\n",
    "    "
   ]
  },
  {
   "cell_type": "code",
   "execution_count": 33,
   "id": "d3f5ac72",
   "metadata": {},
   "outputs": [
    {
     "data": {
      "text/plain": [
       "array([  -13276.83647805, -1974319.00361463])"
      ]
     },
     "execution_count": 33,
     "metadata": {},
     "output_type": "execute_result"
    }
   ],
   "source": [
    "grad(X, y, w)"
   ]
  },
  {
   "cell_type": "code",
   "execution_count": 35,
   "id": "a63b37f1",
   "metadata": {},
   "outputs": [],
   "source": [
    "def loss(X, y, w):\n",
    "    return np.mean((X @ w - y)**2)"
   ]
  },
  {
   "cell_type": "code",
   "execution_count": 37,
   "id": "177f3f16",
   "metadata": {},
   "outputs": [
    {
     "data": {
      "text/plain": [
       "239785401.55789688"
      ]
     },
     "execution_count": 37,
     "metadata": {},
     "output_type": "execute_result"
    }
   ],
   "source": [
    "loss(X,y,w)"
   ]
  },
  {
   "cell_type": "code",
   "execution_count": 39,
   "id": "8a57d7d5",
   "metadata": {},
   "outputs": [
    {
     "name": "stdout",
     "output_type": "stream",
     "text": [
      "168774287.21989998\n",
      "120830589.17727776\n",
      "88461032.75787075\n",
      "66606476.5532322\n",
      "51851202.74832536\n",
      "41889063.47140244\n",
      "35163045.440232195\n",
      "30621919.290581547\n",
      "27555939.51877554\n",
      "25485916.04781867\n",
      "24088320.05124846\n",
      "23144718.58026836\n",
      "22507634.967523333\n",
      "22077499.218953565\n",
      "21787085.895478554\n",
      "21591007.230409756\n",
      "21458619.327728756\n",
      "21369232.727880735\n",
      "21308878.78482886\n",
      "21268126.460919134\n",
      "21240608.3193222\n",
      "21222025.33661526\n",
      "21209474.994424745\n",
      "21200997.635386564\n",
      "21195270.181921046\n",
      "21191399.348133467\n",
      "21188782.025255315\n",
      "21187011.019812718\n",
      "21185811.4120336\n",
      "21184997.587742064\n",
      "21184444.228115026\n",
      "21184066.72319553\n",
      "21183807.9479274\n",
      "21183629.333894305\n",
      "21183504.84133652\n",
      "21183416.88931211\n",
      "21183353.6079144\n",
      "21183306.98308554\n",
      "21183271.604073454\n",
      "21183243.817767646\n",
      "21183221.157742806\n",
      "21183201.958773125\n",
      "21183185.096568707\n",
      "21183169.812056687\n",
      "21183155.59274324\n",
      "21183142.09261427\n",
      "21183129.078055702\n",
      "21183116.391341254\n",
      "21183103.92598079\n",
      "21183091.61007671\n",
      "21183079.395086795\n",
      "21183067.248237383\n",
      "21183055.147401102\n",
      "21183043.077638496\n",
      "21183031.028863046\n",
      "21183018.994264793\n",
      "21183006.969245933\n",
      "21182994.950702216\n",
      "21182982.936537795\n",
      "21182970.925337628\n",
      "21182958.91614635\n",
      "21182946.908318937\n",
      "21182934.901419897\n",
      "21182922.89515521\n",
      "21182910.88932634\n",
      "21182898.883799277\n",
      "21182886.878483534\n",
      "21182874.873318\n",
      "21182862.868261434\n",
      "21182850.863285985\n",
      "21182838.858372852\n",
      "21182826.853509337\n",
      "21182814.848686878\n",
      "21182802.84389967\n",
      "21182790.83914383\n",
      "21182778.834416702\n",
      "21182766.829716507\n",
      "21182754.825042047\n",
      "21182742.82039251\n",
      "21182730.81576734\n",
      "21182718.81116618\n",
      "21182706.806588773\n",
      "21182694.802034955\n",
      "21182682.7975046\n",
      "21182670.792997647\n",
      "21182658.788514026\n",
      "21182646.78405372\n",
      "21182634.779616695\n",
      "21182622.775202937\n",
      "21182610.77081244\n",
      "21182598.766445182\n",
      "21182586.76210117\n",
      "21182574.75778041\n",
      "21182562.753482874\n",
      "21182550.74920859\n",
      "21182538.74495753\n",
      "21182526.74072971\n",
      "21182514.736525122\n",
      "21182502.73234377\n",
      "21182490.728185654\n"
     ]
    }
   ],
   "source": [
    "alpha = 0.00001\n",
    "w = [0.001, -0.001]\n",
    "for i in range(100):\n",
    "    w = w - alpha * grad(X, y, w)\n",
    "    print (loss(X,y,w))"
   ]
  },
  {
   "cell_type": "code",
   "execution_count": 41,
   "id": "2227b879",
   "metadata": {},
   "outputs": [
    {
     "data": {
      "text/plain": [
       "Text(0.5, 0, 'engine')"
      ]
     },
     "execution_count": 41,
     "metadata": {},
     "output_type": "execute_result"
    },
    {
     "data": {
      "image/png": "[encoded data removed]",
      "text/plain": [
       "<Figure size 432x288 with 1 Axes>"
      ]
     },
     "metadata": {
      "needs_background": "light"
     },
     "output_type": "display_data"
    }
   ],
   "source": [
    "x = np.linspace(50,350,num=1000000)\n",
    "z = w[0] + w[1]*x\n",
    "plt.plot(x,z)\n",
    "plt.scatter(X[:,1],y)\n",
    "plt.ylabel('Price')\n",
    "plt.xlabel('engine')"
   ]
  },
  {
   "cell_type": "code",
   "execution_count": 42,
   "id": "ddb4e831",
   "metadata": {},
   "outputs": [
    {
     "data": {
      "text/plain": [
       "99649.63691613267"
      ]
     },
     "execution_count": 42,
     "metadata": {},
     "output_type": "execute_result"
    }
   ],
   "source": [
    "x = [1, 900]\n",
    "h(x,w)"
   ]
  }
 ],
 "metadata": {
  "kernelspec": {
   "display_name": "Python [conda env:practical_rl]",
   "language": "python",
   "name": "conda-env-practical_rl-py"
  },
  "language_info": {
   "codemirror_mode": {
    "name": "ipython",
    "version": 3
   },
   "file_extension": ".py",
   "mimetype": "text/x-python",
   "name": "python",
   "nbconvert_exporter": "python",
   "pygments_lexer": "ipython3",
   "version": "3.9.10"
  }
 },
 "nbformat": 4,
 "nbformat_minor": 5
}
