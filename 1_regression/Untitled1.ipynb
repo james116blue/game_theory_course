{
 "cells": [
  {
   "cell_type": "code",
   "execution_count": 1,
   "id": "4e44aa3a",
   "metadata": {},
   "outputs": [],
   "source": [
    "import numpy as np"
   ]
  },
  {
   "cell_type": "code",
   "execution_count": 2,
   "id": "c2f7f245",
   "metadata": {},
   "outputs": [],
   "source": [
    "array1 = [[1,2],\n",
    "          [3,4]]\n",
    "array2 = [[5,6],\n",
    "          [8,9]]"
   ]
  },
  {
   "cell_type": "code",
   "execution_count": 5,
   "id": "462a989d",
   "metadata": {},
   "outputs": [
    {
     "data": {
      "text/plain": [
       "array([[ 6,  8],\n",
       "       [11, 13]])"
      ]
     },
     "execution_count": 5,
     "metadata": {},
     "output_type": "execute_result"
    }
   ],
   "source": [
    "array1 = np.array(array1)\n",
    "array2 = np.array(array2)\n",
    "\n",
    "#type(array1)\n",
    "\n",
    "array1+array2"
   ]
  },
  {
   "cell_type": "code",
   "execution_count": 7,
   "id": "af11513d",
   "metadata": {},
   "outputs": [
    {
     "data": {
      "text/plain": [
       "array([[ 5, 12],\n",
       "       [24, 36]])"
      ]
     },
     "execution_count": 7,
     "metadata": {},
     "output_type": "execute_result"
    }
   ],
   "source": [
    "array1*array2"
   ]
  },
  {
   "cell_type": "code",
   "execution_count": 9,
   "id": "a34fc40b",
   "metadata": {},
   "outputs": [
    {
     "data": {
      "text/plain": [
       "array([[21, 24],\n",
       "       [47, 54]])"
      ]
     },
     "execution_count": 9,
     "metadata": {},
     "output_type": "execute_result"
    }
   ],
   "source": [
    "array1@array2"
   ]
  },
  {
   "cell_type": "code",
   "execution_count": 16,
   "id": "b6058195",
   "metadata": {},
   "outputs": [
    {
     "data": {
      "text/plain": [
       "array([1, 2, 3, 4])"
      ]
     },
     "execution_count": 16,
     "metadata": {},
     "output_type": "execute_result"
    }
   ],
   "source": [
    "array1.reshape((4,))"
   ]
  },
  {
   "cell_type": "code",
   "execution_count": 23,
   "id": "d8a72f83",
   "metadata": {},
   "outputs": [],
   "source": [
    "a = np.random.randint(0,100,(2,3,4))"
   ]
  },
  {
   "cell_type": "code",
   "execution_count": 24,
   "id": "5138d131",
   "metadata": {},
   "outputs": [
    {
     "data": {
      "text/plain": [
       "array([[42.        , 43.33333333, 23.33333333, 61.        ],\n",
       "       [41.66666667, 53.        , 70.66666667, 17.66666667]])"
      ]
     },
     "execution_count": 24,
     "metadata": {},
     "output_type": "execute_result"
    }
   ],
   "source": [
    "np.mean(a, 1)"
   ]
  }
 ],
 "metadata": {
  "kernelspec": {
   "display_name": "Python [conda env:practical_rl]",
   "language": "python",
   "name": "conda-env-practical_rl-py"
  },
  "language_info": {
   "codemirror_mode": {
    "name": "ipython",
    "version": 3
   },
   "file_extension": ".py",
   "mimetype": "text/x-python",
   "name": "python",
   "nbconvert_exporter": "python",
   "pygments_lexer": "ipython3",
   "version": "3.9.10"
  }
 },
 "nbformat": 4,
 "nbformat_minor": 5
}
