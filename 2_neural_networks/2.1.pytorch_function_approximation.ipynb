{
 "cells": [
  {
   "cell_type": "markdown",
   "metadata": {},
   "source": [
    "Задача апроксимации (наиболее точного приближения) функции \n",
    "$ y = \\sin(x) $ \n",
    "с использованием многочлена третьей степени \n",
    "$ \\hat{y} = \\theta_0 + \\theta_1 x + \\theta_2 x^2 + \\theta_3 x^3 = \\langle(1, x, x^2, x^3)\\,,\\mathbf{\\theta}\\rangle  $, где $\\theta = (\\theta_0, \\theta_1, \\theta_2, \\theta_3)^\\mathrm{T} $\n",
    "при имееющимся массиве  данных вида $\\{x_i,y_i=\\sin(x_i)\\}_{i=1,n} $ может быть формализована следующим образом:<br>\n",
    "нахождение таких параметров $\\theta$ , которые минимизирровали бы  \n",
    "$$loss = J(\\theta) = \\displaystyle\\sum_{i=1}^{n} [ y_i-\\hat{y}(x_i,\\theta) ]^2 $$ "
   ]
  },
  {
   "cell_type": "code",
   "execution_count": 1,
   "metadata": {},
   "outputs": [
    {
     "name": "stdout",
     "output_type": "stream",
     "text": [
      "x[0:5]= \n",
      "[-3.14159 -3.13845 -3.13531 -3.13216 -3.12902]\n",
      "\n",
      "y[0:5]= \n",
      "[-0.      -0.00314 -0.00629 -0.00943 -0.01257]\n",
      "\n"
     ]
    }
   ],
   "source": [
    "import numpy as np\n",
    "import math\n",
    "import math\n",
    "import matplotlib.pyplot as plt\n",
    "np.set_printoptions(precision=5, suppress=True)\n",
    "\n",
    "# Create random input and output data\n",
    "x = np.linspace(-math.pi, math.pi, 2000)\n",
    "y = np.sin(x)\n",
    "\n",
    "print(\"x[0:5]= \\n%s\\n\" % x[:5])\n",
    "print(\"y[0:5]= \\n%s\\n\" % y[:5])"
   ]
  },
  {
   "cell_type": "code",
   "execution_count": 2,
   "metadata": {},
   "outputs": [
    {
     "data": {
      "image/png": "[encoded data removed]",
      "text/plain": [
       "<Figure size 432x288 with 1 Axes>"
      ]
     },
     "metadata": {
      "needs_background": "light"
     },
     "output_type": "display_data"
    }
   ],
   "source": [
    "#plot function\n",
    "plt.plot(x, y)\n",
    "plt.legend(['sin x'], loc='upper left')\n",
    "plt.show()"
   ]
  },
  {
   "cell_type": "markdown",
   "metadata": {},
   "source": [
    "Градиентный спуск\n",
    "$$ \\theta_{k+1} \\leftarrow \\theta_{k} + \\alpha \\nabla \\theta{J}$$\n",
    "$$ \\nabla_\\theta{J} = ( \\frac{dJ}{d\\theta_0}, \\frac{dJ}{d\\theta_1}, \\frac{dJ}{d\\theta_2}, \\frac{dJ}{d\\theta_3})  $$"
   ]
  },
  {
   "cell_type": "markdown",
   "metadata": {},
   "source": [
    "### Использование механизма Autograd"
   ]
  },
  {
   "cell_type": "code",
   "execution_count": 3,
   "metadata": {},
   "outputs": [],
   "source": [
    "import torch\n",
    "dtype = torch.float64\n",
    "device = torch.device(\"cpu\")\n",
    "# device = torch.device(\"cuda:0\")  # Uncomment this to run on GPU"
   ]
  },
  {
   "cell_type": "code",
   "execution_count": 4,
   "metadata": {},
   "outputs": [],
   "source": [
    "x_tensor = torch.from_numpy(x)\n",
    "y_tensor = torch.from_numpy(y)"
   ]
  },
  {
   "cell_type": "markdown",
   "metadata": {},
   "source": [
    "$$  y = a + b x + c x^2 + d x^3 $$"
   ]
  },
  {
   "cell_type": "code",
   "execution_count": 5,
   "metadata": {},
   "outputs": [],
   "source": [
    "# Create random Tensors for weights. For a third order polynomial, we need\n",
    "# 4 weights: y = a + b x + c x^2 + d x^3\n",
    "# Setting requires_grad=True indicates that we want to compute gradients with\n",
    "# respect to these Tensors during the backward pass.\n",
    "a = torch.randn((), device=device, dtype=dtype, requires_grad=True)\n",
    "b = torch.randn((), device=device, dtype=dtype, requires_grad=True)\n",
    "c = torch.randn((), device=device, dtype=dtype, requires_grad=True)\n",
    "d = torch.randn((), device=device, dtype=dtype, requires_grad=True)"
   ]
  },
  {
   "cell_type": "markdown",
   "metadata": {},
   "source": [
    "FORWARD"
   ]
  },
  {
   "cell_type": "code",
   "execution_count": 6,
   "metadata": {},
   "outputs": [
    {
     "name": "stdout",
     "output_type": "stream",
     "text": [
      "y_pred[0:5]= \n",
      "tensor([36.6897, 36.5692, 36.4490, 36.3290, 36.2092], dtype=torch.float64,\n",
      "       grad_fn=<SliceBackward>)\n",
      "\n"
     ]
    }
   ],
   "source": [
    "# Forward pass: compute predicted y using operations on Tensors.\n",
    "y_pred = a + b * x_tensor + c * x_tensor ** 2 + d * x_tensor ** 3\n",
    "print(\"y_pred[0:5]= \\n%s\\n\" %  y_pred[:5])"
   ]
  },
  {
   "cell_type": "markdown",
   "metadata": {},
   "source": [
    "BACKWARD"
   ]
  },
  {
   "cell_type": "code",
   "execution_count": 7,
   "metadata": {},
   "outputs": [],
   "source": [
    "# Compute and print loss using operations on Tensors.\n",
    "# Now loss is a Tensor of shape (1,)\n",
    "# loss.item() gets the scalar value held in the loss.\n",
    "loss = (y_pred - y_tensor).pow(2).sum()\n",
    "# Use autograd to compute the backward pass. This call will compute the\n",
    "# gradient of loss with respect to all Tensors with requires_grad=True.\n",
    "# After this call a.grad, b.grad. c.grad and d.grad will be Tensors holding\n",
    "# the gradient of the loss with respect to a, b, c, d respectively.\n",
    "loss.backward()"
   ]
  },
  {
   "cell_type": "markdown",
   "metadata": {},
   "source": [
    "The gradients are now stored in `.grad` of those variables that require them."
   ]
  },
  {
   "cell_type": "code",
   "execution_count": 8,
   "metadata": {},
   "outputs": [
    {
     "name": "stdout",
     "output_type": "stream",
     "text": [
      "dJ/da = \n",
      " tensor(-9229.4291, dtype=torch.float64)\n",
      "dJ/db = \n",
      " tensor(-108157.3641, dtype=torch.float64)\n"
     ]
    }
   ],
   "source": [
    "print(\"dJ/da = \\n\", a.grad)\n",
    "print(\"dJ/db = \\n\", b.grad)"
   ]
  },
  {
   "cell_type": "code",
   "execution_count": 9,
   "metadata": {},
   "outputs": [
    {
     "name": "stdout",
     "output_type": "stream",
     "text": [
      "99 125.75774778531817\n",
      "199 91.29052957836186\n",
      "299 66.9949347803502\n",
      "399 49.86467610953723\n",
      "499 37.783784184726855\n",
      "599 29.26207061485855\n",
      "699 23.249749170878577\n",
      "799 19.007076341136994\n",
      "899 16.012647226374575\n",
      "999 13.89886132367146\n",
      "1099 12.406493048223735\n",
      "1199 11.352701033175963\n",
      "1299 10.608494028509382\n",
      "1399 10.0828534857839\n",
      "1499 9.711543421969736\n",
      "1599 9.449221814251473\n",
      "1699 9.263878126335072\n",
      "1799 9.132910179697987\n",
      "1899 9.040356649610757\n",
      "1999 8.974944391729032\n",
      "Result: y = -0.013197248361950756 + 0.8552576754435598 x + 0.0022767449455971455 x^2 + -0.09311942136073675 x^3\n"
     ]
    }
   ],
   "source": [
    "learning_rate = 1e-6\n",
    "for t in range(2000):\n",
    "    # Forward pass: compute predicted y using operations on Tensors.\n",
    "    y_pred = a + b * x_tensor + c * x_tensor ** 2 + d * x_tensor ** 3\n",
    "\n",
    "    # Compute and print loss using operations on Tensors.\n",
    "    # Now loss is a Tensor of shape (1,)\n",
    "    # loss.item() gets the scalar value held in the loss.\n",
    "    loss = (y_pred - y_tensor).pow(2).sum()\n",
    "    if t % 100 == 99:\n",
    "        print(t, loss.item())\n",
    "\n",
    "    # Use autograd to compute the backward pass. This call will compute the\n",
    "    # gradient of loss with respect to all Tensors with requires_grad=True.\n",
    "    # After this call a.grad, b.grad. c.grad and d.grad will be Tensors holding\n",
    "    # the gradient of the loss with respect to a, b, c, d respectively.\n",
    "    loss.backward()\n",
    "\n",
    "    # Manually update weights using gradient descent. Wrap in torch.no_grad()\n",
    "    # because weights have requires_grad=True, but we don't need to track this\n",
    "    # in autograd.\n",
    "    with torch.no_grad():\n",
    "        a -= learning_rate * a.grad\n",
    "        b -= learning_rate * b.grad\n",
    "        c -= learning_rate * c.grad\n",
    "        d -= learning_rate * d.grad\n",
    "\n",
    "        # Manually zero the gradients after updating weights\n",
    "        a.grad = None\n",
    "        b.grad = None\n",
    "        c.grad = None\n",
    "        d.grad = None\n",
    "\n",
    "print(f'Result: y = {a.item()} + {b.item()} x + {c.item()} x^2 + {d.item()} x^3')"
   ]
  },
  {
   "cell_type": "code",
   "execution_count": 10,
   "metadata": {},
   "outputs": [
    {
     "data": {
      "image/png": "[encoded data removed]",
      "text/plain": [
       "<Figure size 432x288 with 1 Axes>"
      ]
     },
     "metadata": {
      "needs_background": "light"
     },
     "output_type": "display_data"
    }
   ],
   "source": [
    "a = a.item()\n",
    "b = b.item()\n",
    "c = c.item()\n",
    "d = d.item()\n",
    "\n",
    "y_pred = a + b * x + c * x ** 2 + d * x ** 3\n",
    "\n",
    "\n",
    "plt.plot(x, y)\n",
    "plt.plot(x, y_pred)\n",
    "\n",
    "plt.legend(['sin x', 'a+bx+cx^2+dx^3'], loc='upper left')\n",
    "\n",
    "plt.show()"
   ]
  },
  {
   "cell_type": "markdown",
   "metadata": {},
   "source": [
    "### Модуль nn"
   ]
  },
  {
   "cell_type": "code",
   "execution_count": 11,
   "metadata": {},
   "outputs": [
    {
     "data": {
      "text/plain": [
       "tensor([[ -3.1416,   9.8696, -31.0063],\n",
       "        [ -3.1384,   9.8499, -30.9133],\n",
       "        [ -3.1353,   9.8301, -30.8205],\n",
       "        ...,\n",
       "        [  3.1353,   9.8301,  30.8205],\n",
       "        [  3.1384,   9.8499,  30.9133],\n",
       "        [  3.1416,   9.8696,  31.0063]], dtype=torch.float64)"
      ]
     },
     "execution_count": 11,
     "metadata": {},
     "output_type": "execute_result"
    }
   ],
   "source": [
    "# Prepare the input tensor (x, x^2, x^3).\n",
    "p = torch.tensor([1, 2, 3])\n",
    "xx = x_tensor.unsqueeze(-1).pow(p)\n",
    "xx"
   ]
  },
  {
   "cell_type": "code",
   "execution_count": 19,
   "metadata": {},
   "outputs": [],
   "source": [
    "# Use the nn package to define our model and loss function.\n",
    "model = torch.nn.Sequential(\n",
    "    torch.nn.Linear(3, 1),\n",
    "    torch.nn.Flatten(0, 1)\n",
    ").double()"
   ]
  },
  {
   "cell_type": "code",
   "execution_count": 20,
   "metadata": {},
   "outputs": [],
   "source": [
    "# Use the optim package to define an Optimizer that will update the weights of\n",
    "# the model for us. Here we will use RMSprop; the optim package contains many other\n",
    "# optimization algorithms. The first argument to the RMSprop constructor tells the\n",
    "# optimizer which Tensors it should update.\n",
    "learning_rate = 1e-3\n",
    "optimizer = torch.optim.RMSprop(model.parameters(), lr=learning_rate)"
   ]
  },
  {
   "cell_type": "code",
   "execution_count": 21,
   "metadata": {},
   "outputs": [],
   "source": [
    "loss_fn = torch.nn.MSELoss(reduction='sum')"
   ]
  },
  {
   "cell_type": "code",
   "execution_count": 22,
   "metadata": {},
   "outputs": [
    {
     "name": "stdout",
     "output_type": "stream",
     "text": [
      "99 18633.05174589813\n",
      "199 7795.381249380785\n",
      "299 3318.888986154297\n",
      "399 1832.9218536282299\n",
      "499 1471.289761152104\n",
      "599 1295.3130559811289\n",
      "699 1110.1415682866066\n",
      "799 924.9668845595311\n",
      "899 753.670040354779\n",
      "999 600.9950032439162\n",
      "1099 467.6634559358981\n",
      "1199 353.40925424669257\n",
      "1299 257.5899030993117\n",
      "1399 179.41891967601657\n",
      "1499 118.00594028965524\n",
      "1599 72.3506706028674\n",
      "1699 41.008227034106156\n",
      "1799 22.003259701652155\n",
      "1899 12.659320940339482\n",
      "1999 9.473696928431181\n"
     ]
    }
   ],
   "source": [
    "for t in range(2000):\n",
    "    \n",
    "    y_pred = model(xx)\n",
    "\n",
    "    # Compute and print loss.\n",
    "    loss = loss_fn(y_pred, y_tensor)\n",
    "    if t % 100 == 99:\n",
    "        print(t, loss.item())\n",
    "\n",
    "    # Before the backward pass, use the optimizer object to zero all of the\n",
    "    # gradients for the variables it will update (which are the learnable\n",
    "    # weights of the model). This is because by default, gradients are\n",
    "    # accumulated in buffers( i.e, not overwritten) whenever .backward()\n",
    "    # is called. Checkout docs of torch.autograd.backward for more details.\n",
    "    optimizer.zero_grad()\n",
    "\n",
    "    # Backward pass: compute gradient of the loss with respect to model\n",
    "    # parameters\n",
    "    loss.backward()\n",
    "\n",
    "    # Calling the step function on an Optimizer makes an update to its\n",
    "    # parameters\n",
    "    optimizer.step()"
   ]
  },
  {
   "cell_type": "code",
   "execution_count": 23,
   "metadata": {},
   "outputs": [
    {
     "name": "stdout",
     "output_type": "stream",
     "text": [
      "Result: y = -0.0005753901129252858 + 0.8329014786854677 x + -0.0005758541319598545 x^2 + -0.08966209120626298 x^3\n"
     ]
    }
   ],
   "source": [
    "linear_layer = model[0]\n",
    "a = linear_layer.bias.item()\n",
    "b = linear_layer.weight[:, 0].item()\n",
    "c = linear_layer.weight[:, 1].item()\n",
    "d = linear_layer.weight[:, 2].item()\n",
    "print(f'Result: y = {a} + {b} x + {c} x^2 + {d} x^3')"
   ]
  },
  {
   "cell_type": "markdown",
   "metadata": {},
   "source": [
    "### Еще один способ задания модели"
   ]
  },
  {
   "cell_type": "code",
   "execution_count": 24,
   "metadata": {},
   "outputs": [],
   "source": [
    "class Polynomial3(torch.nn.Module):\n",
    "    def __init__(self):\n",
    "        \"\"\"\n",
    "        In the constructor we instantiate four parameters and assign them as\n",
    "        member parameters.\n",
    "        \"\"\"\n",
    "        super().__init__()\n",
    "        self.a = torch.nn.Parameter(torch.randn(()))\n",
    "        self.b = torch.nn.Parameter(torch.randn(()))\n",
    "        self.c = torch.nn.Parameter(torch.randn(()))\n",
    "        self.d = torch.nn.Parameter(torch.randn(()))\n",
    "\n",
    "    def forward(self, x):\n",
    "        \"\"\"\n",
    "        In the forward function we accept a Tensor of input data and we must return\n",
    "        a Tensor of output data. We can use Modules defined in the constructor as\n",
    "        well as arbitrary operators on Tensors.\n",
    "        \"\"\"\n",
    "        return self.a + self.b * x + self.c * x ** 2 + self.d * x ** 3\n",
    "\n",
    "    def string(self):\n",
    "        \"\"\"\n",
    "        Just like any class in Python, you can also define custom method on PyTorch modules\n",
    "        \"\"\"\n",
    "        return f'y = {self.a.item()} + {self.b.item()} x + {self.c.item()} x^2 + {self.d.item()} x^3'"
   ]
  }
 ],
 "metadata": {
  "kernelspec": {
   "display_name": "Python 3",
   "language": "python",
   "name": "python3"
  },
  "language_info": {
   "codemirror_mode": {
    "name": "ipython",
    "version": 3
   },
   "file_extension": ".py",
   "mimetype": "text/x-python",
   "name": "python",
   "nbconvert_exporter": "python",
   "pygments_lexer": "ipython3",
   "version": "3.8.5"
  }
 },
 "nbformat": 4,
 "nbformat_minor": 4
}
